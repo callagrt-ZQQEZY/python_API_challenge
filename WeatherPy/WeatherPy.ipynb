{
 "cells": [
  {
   "cell_type": "markdown",
   "metadata": {},
   "source": [
    "# WeatherPy\n",
    "----\n",
    "\n",
    "#### Note\n",
    "* Instructions have been included for each segment. You do not have to follow them exactly, but they are included to help you think through the steps.\n",
    "\n",
    "#### Analyis\n",
    "Observed T\n",
    "1.  The best linear regressions are seen in the latitude versus max temperature for Northern Hemisphere and Southern Hemisphere. There seems to be a strong relationship between temperature and latitude.\n",
    "2.  Latitude especially doesn't have a strong relationship with wind speed. The wind speed seems to be relatively steady at all latitudes.\n",
    "3.  The humidity of loaction does not seem to have a correlation to either hemisphere. Both hemispheres have high humidity and the scatter plot is all over the splace. We can conclude that there is poor correlation between humidity and latitudes."
   ]
  },
  {
   "cell_type": "code",
   "execution_count": 1,
   "metadata": {
    "scrolled": true
   },
   "outputs": [],
   "source": [
    "# Dependencies and Setup\n",
    "import matplotlib.pyplot as plt\n",
    "import pandas as pd\n",
    "import numpy as np\n",
    "import requests\n",
    "import time\n",
    "from scipy.stats import linregress\n",
    "import json\n",
    "\n",
    "# Import API key\n",
    "from api_keys import weather_api_key\n",
    "\n",
    "# Incorporated citipy to determine city based on latitude and longitude\n",
    "from citipy import citipy\n",
    "\n",
    "# Output File (CSV)\n",
    "output_data_file = \"output_data/cities.csv\"\n",
    "\n",
    "# Range of latitudes and longitudes\n",
    "lat_range = (-90, 90)\n",
    "lng_range = (-180, 180)"
   ]
  },
  {
   "cell_type": "markdown",
   "metadata": {},
   "source": [
    "## Generate Cities List"
   ]
  },
  {
   "cell_type": "code",
   "execution_count": 2,
   "metadata": {},
   "outputs": [
    {
     "data": {
      "text/plain": [
       "583"
      ]
     },
     "execution_count": 2,
     "metadata": {},
     "output_type": "execute_result"
    }
   ],
   "source": [
    "# List for holding lat_lngs and cities\n",
    "lat_lngs = []\n",
    "cities = []\n",
    "\n",
    "# Create a set of random lat and lng combinations\n",
    "lats = np.random.uniform(lat_range[0], lat_range[1], size=1500)\n",
    "lngs = np.random.uniform(lng_range[0], lng_range[1], size=1500)\n",
    "lat_lngs = zip(lats, lngs)\n",
    "\n",
    "# Identify nearest city for each lat, lng combination\n",
    "for lat_lng in lat_lngs:\n",
    "    city = citipy.nearest_city(lat_lng[0], lat_lng[1]).city_name\n",
    "    \n",
    "    # If the city is unique, then add it to a our cities list\n",
    "    if city not in cities:\n",
    "        cities.append(city)\n",
    "\n",
    "# Print the city count to confirm sufficient count\n",
    "len(cities)"
   ]
  },
  {
   "cell_type": "markdown",
   "metadata": {},
   "source": [
    "### Perform API Calls\n",
    "* Perform a weather check on each city using a series of successive API calls.\n",
    "* Include a print log of each city as it'sbeing processed (with the city number and city name).\n"
   ]
  },
  {
   "cell_type": "code",
   "execution_count": 1,
   "metadata": {
    "scrolled": true
   },
   "outputs": [
    {
     "ename": "NameError",
     "evalue": "name 'weather_api_key' is not defined",
     "output_type": "error",
     "traceback": [
      "\u001b[1;31m---------------------------------------------------------------------------\u001b[0m",
      "\u001b[1;31mNameError\u001b[0m                                 Traceback (most recent call last)",
      "\u001b[1;32m~\\AppData\\Local\\Temp/ipykernel_5600/2616288911.py\u001b[0m in \u001b[0;36m<module>\u001b[1;34m\u001b[0m\n\u001b[0;32m      1\u001b[0m \u001b[0murl\u001b[0m \u001b[1;33m=\u001b[0m \u001b[1;34m\"http://api.openweathermap.org/data/2.5/weather?appid=\"\u001b[0m\u001b[1;33m\u001b[0m\u001b[1;33m\u001b[0m\u001b[0m\n\u001b[1;32m----> 2\u001b[1;33m \u001b[0mtarget_url\u001b[0m \u001b[1;33m=\u001b[0m \u001b[0murl\u001b[0m \u001b[1;33m+\u001b[0m \u001b[0mweather_api_key\u001b[0m\u001b[1;33m\u001b[0m\u001b[1;33m\u001b[0m\u001b[0m\n\u001b[0m\u001b[0;32m      3\u001b[0m \u001b[1;33m\u001b[0m\u001b[0m\n",
      "\u001b[1;31mNameError\u001b[0m: name 'weather_api_key' is not defined"
     ]
    }
   ],
   "source": [
    "url = \"http://api.openweathermap.org/data/2.5/weather?appid=\"\n",
    "target_url = url + weather_api_key\n",
    "\n"
   ]
  },
  {
   "cell_type": "code",
   "execution_count": 2,
   "metadata": {},
   "outputs": [
    {
     "ename": "NameError",
     "evalue": "name 'target_url' is not defined",
     "output_type": "error",
     "traceback": [
      "\u001b[1;31m---------------------------------------------------------------------------\u001b[0m",
      "\u001b[1;31mNameError\u001b[0m                                 Traceback (most recent call last)",
      "\u001b[1;32m~\\AppData\\Local\\Temp/ipykernel_5600/2057172710.py\u001b[0m in \u001b[0;36m<module>\u001b[1;34m\u001b[0m\n\u001b[0;32m      1\u001b[0m \u001b[0munits\u001b[0m \u001b[1;33m=\u001b[0m \u001b[1;34m\"imperial\"\u001b[0m\u001b[1;33m\u001b[0m\u001b[1;33m\u001b[0m\u001b[0m\n\u001b[0;32m      2\u001b[0m \u001b[1;33m\u001b[0m\u001b[0m\n\u001b[1;32m----> 3\u001b[1;33m \u001b[0mquery\u001b[0m \u001b[1;33m=\u001b[0m \u001b[1;34mf\"{target_url}&units={units}&q=\"\u001b[0m\u001b[1;33m\u001b[0m\u001b[1;33m\u001b[0m\u001b[0m\n\u001b[0m",
      "\u001b[1;31mNameError\u001b[0m: name 'target_url' is not defined"
     ]
    }
   ],
   "source": [
    "units = \"imperial\"\n",
    "\n",
    "query = f\"{target_url}&units={units}&q=\"\n"
   ]
  },
  {
   "cell_type": "code",
   "execution_count": 5,
   "metadata": {},
   "outputs": [
    {
     "name": "stdout",
     "output_type": "stream",
     "text": [
      "Processing Record 1 of Set 1 : sao joao da barra\n",
      "Processing Record 2 of Set 1 : tromso\n",
      "Processing Record 3 of Set 1 : kyzyl\n",
      "Processing Record 4 of Set 1 : butaritari\n",
      "Processing Record 5 of Set 1 : baiyin\n",
      "Processing Record 6 of Set 1 : abu samrah\n",
      "Processing Record 7 of Set 1 : albany\n",
      "Processing Record 8 of Set 1 : abalak\n",
      "Processing Record 9 of Set 1 : vaini\n",
      "Processing Record 10 of Set 1 : kendari\n",
      "Processing Record 11 of Set 1 : cape town\n",
      "Processing Record 12 of Set 1 : ilulissat\n",
      "Processing Record 13 of Set 1 : chuy\n",
      "Processing Record 14 of Set 1 : broken hill\n",
      "Processing Record 15 of Set 1 : kedgwick\n",
      "Processing Record 16 of Set 1 : sao jose da coroa grande\n",
      "Processing Record 17 of Set 1 : avera\n",
      "Processing Record 18 of Set 1 : iqaluit\n",
      "Processing Record 19 of Set 1 : hobart\n",
      "Processing Record 20 of Set 1 : atuona\n",
      "Processing Record 21 of Set 1 : hermanus\n",
      "Processing Record 22 of Set 1 : pevek\n",
      "Processing Record 23 of Set 1 : virginia beach\n",
      "Processing Record 24 of Set 1 : luanda\n",
      "Processing Record 25 of Set 1 : cherskiy\n",
      "Processing Record 26 of Set 1 : kovdor\n",
      "Processing Record 27 of Set 1 : makakilo city\n",
      "Processing Record 28 of Set 1 : pitimbu\n",
      "Processing Record 29 of Set 1 : ushuaia\n",
      "Processing Record 30 of Set 1 : sayville\n",
      "Processing Record 31 of Set 1 : east london\n",
      "Processing Record 32 of Set 1 : castro\n",
      "City not found. Skipping...\n",
      "Processing Record 33 of Set 1 : luderitz\n",
      "Processing Record 34 of Set 1 : rikitea\n",
      "Processing Record 35 of Set 1 : fairbanks\n",
      "Processing Record 36 of Set 1 : puerto escondido\n",
      "Processing Record 37 of Set 1 : coos bay\n",
      "Processing Record 38 of Set 1 : luganville\n",
      "Processing Record 39 of Set 1 : busselton\n",
      "Processing Record 40 of Set 1 : tiksi\n",
      "Processing Record 41 of Set 1 : avarua\n",
      "Processing Record 42 of Set 1 : maniitsoq\n",
      "Processing Record 43 of Set 1 : ban chang\n",
      "Processing Record 44 of Set 1 : la asuncion\n",
      "Processing Record 45 of Set 1 : kieta\n",
      "Processing Record 46 of Set 1 : orangeburg\n",
      "Processing Record 47 of Set 1 : upernavik\n",
      "Processing Record 48 of Set 1 : tuktoyaktuk\n",
      "Processing Record 49 of Set 1 : russell\n",
      "Processing Record 50 of Set 1 : cidreira\n",
      "City not found. Skipping...\n",
      "Processing Record 0 of Set 2 : provideniya\n",
      "Processing Record 1 of Set 2 : bluff\n",
      "Processing Record 2 of Set 2 : imbituba\n",
      "Processing Record 3 of Set 2 : codrington\n",
      "Processing Record 4 of Set 2 : vigrestad\n",
      "Processing Record 5 of Set 2 : acapulco\n",
      "Processing Record 6 of Set 2 : mackenzie\n",
      "Processing Record 7 of Set 2 : qaanaaq\n",
      "Processing Record 8 of Set 2 : bredasdorp\n",
      "City not found. Skipping...\n",
      "Processing Record 9 of Set 2 : awjilah\n",
      "Processing Record 10 of Set 2 : ahipara\n",
      "Processing Record 11 of Set 2 : clyde river\n",
      "Processing Record 12 of Set 2 : jamestown\n",
      "Processing Record 13 of Set 2 : tuatapere\n",
      "Processing Record 14 of Set 2 : hilo\n",
      "Processing Record 15 of Set 2 : kutum\n",
      "Processing Record 16 of Set 2 : zeya\n",
      "Processing Record 17 of Set 2 : erenhot\n",
      "Processing Record 18 of Set 2 : esperance\n",
      "Processing Record 19 of Set 2 : nova olinda do norte\n",
      "Processing Record 20 of Set 2 : punta arenas\n",
      "City not found. Skipping...\n",
      "Processing Record 21 of Set 2 : tamsweg\n",
      "Processing Record 22 of Set 2 : aklavik\n",
      "Processing Record 23 of Set 2 : mount isa\n",
      "Processing Record 24 of Set 2 : chupa\n",
      "Processing Record 25 of Set 2 : bandarbeyla\n",
      "Processing Record 26 of Set 2 : puyang\n",
      "City not found. Skipping...\n",
      "Processing Record 27 of Set 2 : ribeira grande\n",
      "Processing Record 28 of Set 2 : sakakah\n",
      "Processing Record 29 of Set 2 : mar del plata\n",
      "Processing Record 30 of Set 2 : nanortalik\n",
      "Processing Record 31 of Set 2 : fort nelson\n",
      "Processing Record 32 of Set 2 : port alfred\n",
      "Processing Record 33 of Set 2 : sultanpur\n",
      "Processing Record 34 of Set 2 : beyneu\n",
      "Processing Record 35 of Set 2 : humboldt\n",
      "Processing Record 36 of Set 2 : barrow\n",
      "Processing Record 37 of Set 2 : semey\n",
      "Processing Record 38 of Set 2 : nikolskoye\n",
      "Processing Record 39 of Set 2 : high prairie\n",
      "Processing Record 40 of Set 2 : sabirabad\n",
      "Processing Record 41 of Set 2 : batemans bay\n",
      "Processing Record 42 of Set 2 : berlevag\n",
      "Processing Record 43 of Set 2 : basco\n",
      "Processing Record 44 of Set 2 : hasaki\n",
      "Processing Record 45 of Set 2 : labuhan\n",
      "Processing Record 46 of Set 2 : pangnirtung\n",
      "Processing Record 47 of Set 2 : port blair\n",
      "Processing Record 48 of Set 2 : dikson\n",
      "Processing Record 49 of Set 2 : victoria\n",
      "Processing Record 50 of Set 2 : dedza\n",
      "City not found. Skipping...\n",
      "Processing Record 0 of Set 3 : ust-kuyga\n",
      "Processing Record 1 of Set 3 : port elizabeth\n",
      "City not found. Skipping...\n",
      "Processing Record 2 of Set 3 : new norfolk\n",
      "Processing Record 3 of Set 3 : rockhampton\n",
      "Processing Record 4 of Set 3 : hithadhoo\n",
      "Processing Record 5 of Set 3 : bantogon\n",
      "Processing Record 6 of Set 3 : kahului\n",
      "Processing Record 7 of Set 3 : kourou\n",
      "Processing Record 8 of Set 3 : hualmay\n",
      "Processing Record 9 of Set 3 : kaitangata\n",
      "Processing Record 10 of Set 3 : faanui\n",
      "Processing Record 11 of Set 3 : ketchikan\n",
      "Processing Record 12 of Set 3 : fukue\n",
      "Processing Record 13 of Set 3 : puerto ayora\n",
      "Processing Record 14 of Set 3 : paragould\n",
      "Processing Record 15 of Set 3 : saskylakh\n",
      "Processing Record 16 of Set 3 : sur\n",
      "Processing Record 17 of Set 3 : thompson\n",
      "Processing Record 18 of Set 3 : pacific grove\n",
      "Processing Record 19 of Set 3 : kodiak\n",
      "Processing Record 20 of Set 3 : ancud\n",
      "City not found. Skipping...\n",
      "Processing Record 21 of Set 3 : cap malheureux\n",
      "Processing Record 22 of Set 3 : adrar\n",
      "Processing Record 23 of Set 3 : bell ville\n",
      "Processing Record 24 of Set 3 : acajutla\n",
      "Processing Record 25 of Set 3 : georgetown\n",
      "Processing Record 26 of Set 3 : portland\n",
      "Processing Record 27 of Set 3 : carnarvon\n",
      "Processing Record 28 of Set 3 : harrogate\n",
      "Processing Record 29 of Set 3 : kapaa\n",
      "Processing Record 30 of Set 3 : barbacoas\n",
      "Processing Record 31 of Set 3 : sinnamary\n",
      "Processing Record 32 of Set 3 : huarmey\n",
      "Processing Record 33 of Set 3 : cabedelo\n",
      "Processing Record 34 of Set 3 : saint anthony\n",
      "Processing Record 35 of Set 3 : hutang\n",
      "Processing Record 36 of Set 3 : mataura\n",
      "Processing Record 37 of Set 3 : quatre cocos\n",
      "Processing Record 38 of Set 3 : bon accord\n",
      "Processing Record 39 of Set 3 : lodja\n",
      "Processing Record 40 of Set 3 : ostrovnoy\n",
      "Processing Record 41 of Set 3 : nantucket\n",
      "Processing Record 42 of Set 3 : alta floresta\n",
      "Processing Record 43 of Set 3 : oum hadjer\n",
      "Processing Record 44 of Set 3 : kabare\n",
      "Processing Record 45 of Set 3 : cayenne\n",
      "Processing Record 46 of Set 3 : sistranda\n",
      "Processing Record 47 of Set 3 : mayumba\n",
      "Processing Record 48 of Set 3 : gatton\n",
      "Processing Record 49 of Set 3 : ust-omchug\n",
      "Processing Record 50 of Set 3 : arraial do cabo\n",
      "Processing Record 0 of Set 4 : svetlaya\n",
      "Processing Record 1 of Set 4 : dankov\n",
      "Processing Record 2 of Set 4 : bani\n",
      "Processing Record 3 of Set 4 : chester\n",
      "Processing Record 4 of Set 4 : saint george\n",
      "Processing Record 5 of Set 4 : bekhteyevka\n",
      "Processing Record 6 of Set 4 : chokurdakh\n",
      "Processing Record 7 of Set 4 : ahuimanu\n",
      "City not found. Skipping...\n",
      "Processing Record 8 of Set 4 : mahebourg\n",
      "Processing Record 9 of Set 4 : zomba\n",
      "Processing Record 10 of Set 4 : teguise\n",
      "City not found. Skipping...\n",
      "Processing Record 11 of Set 4 : moose factory\n",
      "Processing Record 12 of Set 4 : pyay\n",
      "Processing Record 13 of Set 4 : meulaboh\n",
      "Processing Record 14 of Set 4 : abilene\n",
      "Processing Record 15 of Set 4 : astoria\n",
      "Processing Record 16 of Set 4 : dauriya\n",
      "Processing Record 17 of Set 4 : sorland\n",
      "City not found. Skipping...\n",
      "Processing Record 18 of Set 4 : torbay\n",
      "Processing Record 19 of Set 4 : haikou\n",
      "Processing Record 20 of Set 4 : dodge city\n",
      "Processing Record 21 of Set 4 : datong\n",
      "Processing Record 22 of Set 4 : shirokiy\n",
      "Processing Record 23 of Set 4 : yulara\n",
      "Processing Record 24 of Set 4 : alghero\n",
      "Processing Record 25 of Set 4 : zheshart\n",
      "Processing Record 26 of Set 4 : yellowknife\n",
      "City not found. Skipping...\n",
      "Processing Record 27 of Set 4 : bambanglipuro\n",
      "Processing Record 28 of Set 4 : soe\n",
      "Processing Record 29 of Set 4 : mayskiy\n",
      "Processing Record 30 of Set 4 : narsaq\n",
      "Processing Record 31 of Set 4 : san patricio\n",
      "City not found. Skipping...\n",
      "Processing Record 32 of Set 4 : pitea\n",
      "Processing Record 33 of Set 4 : husavik\n",
      "Processing Record 34 of Set 4 : katangli\n",
      "Processing Record 35 of Set 4 : baghdad\n",
      "Processing Record 36 of Set 4 : yuryev-polskiy\n",
      "Processing Record 37 of Set 4 : carlagan\n"
     ]
    },
    {
     "name": "stdout",
     "output_type": "stream",
     "text": [
      "Processing Record 38 of Set 4 : beringovskiy\n",
      "Processing Record 39 of Set 4 : mackay\n",
      "Processing Record 40 of Set 4 : churapcha\n",
      "Processing Record 41 of Set 4 : zhanaozen\n",
      "Processing Record 42 of Set 4 : nhulunbuy\n",
      "Processing Record 43 of Set 4 : te anau\n",
      "Processing Record 44 of Set 4 : rio grande\n",
      "Processing Record 45 of Set 4 : tura\n",
      "Processing Record 46 of Set 4 : puro\n",
      "City not found. Skipping...\n",
      "Processing Record 47 of Set 4 : merauke\n",
      "Processing Record 48 of Set 4 : chapais\n",
      "Processing Record 49 of Set 4 : neuquen\n",
      "Processing Record 50 of Set 4 : namibe\n",
      "Processing Record 0 of Set 5 : atasu\n",
      "Processing Record 1 of Set 5 : sao filipe\n",
      "Processing Record 2 of Set 5 : kiruna\n",
      "Processing Record 3 of Set 5 : vostok\n",
      "Processing Record 4 of Set 5 : palu\n",
      "Processing Record 5 of Set 5 : wanning\n",
      "Processing Record 6 of Set 5 : bethel\n",
      "Processing Record 7 of Set 5 : channel-port aux basques\n",
      "Processing Record 8 of Set 5 : bengkulu\n",
      "Processing Record 9 of Set 5 : comodoro rivadavia\n",
      "City not found. Skipping...\n",
      "Processing Record 10 of Set 5 : rafsanjan\n",
      "Processing Record 11 of Set 5 : norman wells\n",
      "Processing Record 12 of Set 5 : brae\n",
      "Processing Record 13 of Set 5 : raduzhnyy\n",
      "Processing Record 14 of Set 5 : saldanha\n",
      "Processing Record 15 of Set 5 : leningradskiy\n",
      "Processing Record 16 of Set 5 : macklin\n",
      "City not found. Skipping...\n",
      "Processing Record 17 of Set 5 : pout\n",
      "Processing Record 18 of Set 5 : sangar\n",
      "Processing Record 19 of Set 5 : airai\n",
      "Processing Record 20 of Set 5 : brenham\n",
      "Processing Record 21 of Set 5 : nome\n",
      "Processing Record 22 of Set 5 : letlhakeng\n",
      "Processing Record 23 of Set 5 : verkhnevilyuysk\n",
      "Processing Record 24 of Set 5 : hirara\n",
      "Processing Record 25 of Set 5 : huai thalaeng\n",
      "Processing Record 26 of Set 5 : teacapan\n",
      "Processing Record 27 of Set 5 : mattru\n",
      "Processing Record 28 of Set 5 : perevolotskiy\n",
      "Processing Record 29 of Set 5 : yerbogachen\n",
      "Processing Record 30 of Set 5 : vestmannaeyjar\n",
      "Processing Record 31 of Set 5 : hambantota\n",
      "Processing Record 32 of Set 5 : trinidad\n",
      "Processing Record 33 of Set 5 : pisco\n",
      "Processing Record 34 of Set 5 : hamilton\n",
      "Processing Record 35 of Set 5 : khatanga\n",
      "Processing Record 36 of Set 5 : kinwat\n",
      "Processing Record 37 of Set 5 : geraldton\n",
      "Processing Record 38 of Set 5 : san carlos de bariloche\n",
      "Processing Record 39 of Set 5 : mexico\n",
      "Processing Record 40 of Set 5 : rockport\n",
      "Processing Record 41 of Set 5 : lyubashivka\n",
      "Processing Record 42 of Set 5 : alice springs\n",
      "Processing Record 43 of Set 5 : sabang\n",
      "Processing Record 44 of Set 5 : beni\n",
      "Processing Record 45 of Set 5 : stakhanov\n",
      "Processing Record 46 of Set 5 : dunedin\n",
      "Processing Record 47 of Set 5 : saint-georges\n",
      "Processing Record 48 of Set 5 : hartford\n",
      "Processing Record 49 of Set 5 : monze\n",
      "Processing Record 50 of Set 5 : itarema\n",
      "Processing Record 0 of Set 6 : ciudad bolivar\n",
      "Processing Record 1 of Set 6 : tymovskoye\n",
      "Processing Record 2 of Set 6 : marzuq\n",
      "Processing Record 3 of Set 6 : veraval\n",
      "Processing Record 4 of Set 6 : kenai\n",
      "Processing Record 5 of Set 6 : olafsvik\n",
      "Processing Record 6 of Set 6 : katherine\n",
      "Processing Record 7 of Set 6 : vanimo\n",
      "Processing Record 8 of Set 6 : seredka\n",
      "City not found. Skipping...\n",
      "Processing Record 9 of Set 6 : kavieng\n",
      "City not found. Skipping...\n",
      "Processing Record 10 of Set 6 : lorengau\n",
      "Processing Record 11 of Set 6 : faya\n",
      "Processing Record 12 of Set 6 : tasiilaq\n",
      "Processing Record 13 of Set 6 : dolores\n",
      "Processing Record 14 of Set 6 : burnie\n",
      "Processing Record 15 of Set 6 : atar\n",
      "Processing Record 16 of Set 6 : bama\n",
      "Processing Record 17 of Set 6 : port augusta\n",
      "Processing Record 18 of Set 6 : padang\n",
      "Processing Record 19 of Set 6 : sitka\n",
      "Processing Record 20 of Set 6 : ponta do sol\n",
      "Processing Record 21 of Set 6 : lata\n",
      "Processing Record 22 of Set 6 : la ronge\n",
      "City not found. Skipping...\n",
      "Processing Record 23 of Set 6 : armidale\n",
      "Processing Record 24 of Set 6 : petropavlovsk-kamchatskiy\n",
      "City not found. Skipping...\n",
      "Processing Record 25 of Set 6 : karratha\n",
      "Processing Record 26 of Set 6 : kollam\n",
      "Processing Record 27 of Set 6 : pangkalanbuun\n",
      "Processing Record 28 of Set 6 : lichinga\n",
      "Processing Record 29 of Set 6 : katima mulilo\n",
      "Processing Record 30 of Set 6 : lazarev\n",
      "Processing Record 31 of Set 6 : pahrump\n",
      "Processing Record 32 of Set 6 : souillac\n",
      "Processing Record 33 of Set 6 : assiniboia\n",
      "Processing Record 34 of Set 6 : tahe\n",
      "Processing Record 35 of Set 6 : moindou\n",
      "Processing Record 36 of Set 6 : ordu\n",
      "Processing Record 37 of Set 6 : fortuna\n",
      "Processing Record 38 of Set 6 : heishan\n",
      "Processing Record 39 of Set 6 : roebourne\n",
      "Processing Record 40 of Set 6 : shemonaikha\n",
      "Processing Record 41 of Set 6 : bambous virieux\n",
      "Processing Record 42 of Set 6 : linguere\n",
      "Processing Record 43 of Set 6 : san miguel\n",
      "Processing Record 44 of Set 6 : lodeynoye pole\n",
      "Processing Record 45 of Set 6 : nandikotkur\n",
      "Processing Record 46 of Set 6 : benito juarez\n",
      "City not found. Skipping...\n",
      "Processing Record 47 of Set 6 : whitianga\n",
      "Processing Record 48 of Set 6 : pochutla\n",
      "Processing Record 49 of Set 6 : shizunai\n",
      "Processing Record 50 of Set 6 : sisian\n",
      "Processing Record 0 of Set 7 : coihaique\n",
      "Processing Record 1 of Set 7 : pyapon\n",
      "Processing Record 2 of Set 7 : krasnoselkup\n",
      "Processing Record 3 of Set 7 : batagay\n",
      "Processing Record 4 of Set 7 : klenovyy\n",
      "City not found. Skipping...\n",
      "Processing Record 5 of Set 7 : breznita-motru\n",
      "City not found. Skipping...\n",
      "Processing Record 6 of Set 7 : mana\n",
      "Processing Record 7 of Set 7 : ayr\n",
      "City not found. Skipping...\n",
      "Processing Record 8 of Set 7 : grand-santi\n",
      "Processing Record 9 of Set 7 : gauripur\n",
      "Processing Record 10 of Set 7 : san vicente\n",
      "Processing Record 11 of Set 7 : zheleznogorsk-ilimskiy\n",
      "Processing Record 12 of Set 7 : yumen\n",
      "Processing Record 13 of Set 7 : belaya gora\n",
      "Processing Record 14 of Set 7 : aitape\n",
      "Processing Record 15 of Set 7 : amahai\n",
      "Processing Record 16 of Set 7 : oranjemund\n",
      "Processing Record 17 of Set 7 : flinders\n",
      "Processing Record 18 of Set 7 : ca mau\n",
      "Processing Record 19 of Set 7 : sungaipenuh\n",
      "Processing Record 20 of Set 7 : marsh harbour\n",
      "Processing Record 21 of Set 7 : arica\n",
      "Processing Record 22 of Set 7 : qinhuangdao\n",
      "Processing Record 23 of Set 7 : shahrud\n",
      "Processing Record 24 of Set 7 : saint-joseph\n",
      "Processing Record 25 of Set 7 : san angelo\n",
      "City not found. Skipping...\n",
      "Processing Record 26 of Set 7 : diamantino\n",
      "Processing Record 27 of Set 7 : carstairs\n",
      "Processing Record 28 of Set 7 : ust-abakan\n",
      "Processing Record 29 of Set 7 : kabo\n",
      "Processing Record 30 of Set 7 : severo-kurilsk\n",
      "Processing Record 31 of Set 7 : havre-saint-pierre\n",
      "City not found. Skipping...\n",
      "Processing Record 32 of Set 7 : corner brook\n",
      "Processing Record 33 of Set 7 : longyearbyen\n",
      "City not found. Skipping...\n",
      "Processing Record 34 of Set 7 : gondar\n",
      "Processing Record 35 of Set 7 : hofn\n",
      "City not found. Skipping...\n",
      "Processing Record 36 of Set 7 : vitim\n",
      "Processing Record 37 of Set 7 : cantavir\n",
      "Processing Record 38 of Set 7 : camara de lobos\n",
      "Processing Record 39 of Set 7 : payo\n",
      "Processing Record 40 of Set 7 : cabo san lucas\n",
      "Processing Record 41 of Set 7 : okhotsk\n",
      "Processing Record 42 of Set 7 : baruun-urt\n",
      "Processing Record 43 of Set 7 : flin flon\n",
      "Processing Record 44 of Set 7 : coquimbo\n",
      "Processing Record 45 of Set 7 : carmelo\n",
      "Processing Record 46 of Set 7 : lompoc\n",
      "Processing Record 47 of Set 7 : margate\n",
      "Processing Record 48 of Set 7 : gizo\n",
      "Processing Record 49 of Set 7 : deputatskiy\n",
      "Processing Record 50 of Set 7 : ponta delgada\n",
      "Processing Record 0 of Set 8 : ouesso\n",
      "Processing Record 1 of Set 8 : progreso\n",
      "Processing Record 2 of Set 8 : sorong\n",
      "Processing Record 3 of Set 8 : klaksvik\n",
      "City not found. Skipping...\n",
      "Processing Record 4 of Set 8 : constitucion\n",
      "Processing Record 5 of Set 8 : saurimo\n",
      "Processing Record 6 of Set 8 : eenhana\n",
      "Processing Record 7 of Set 8 : basqal\n",
      "Processing Record 8 of Set 8 : yar-sale\n",
      "Processing Record 9 of Set 8 : kabompo\n",
      "Processing Record 10 of Set 8 : naron\n",
      "Processing Record 11 of Set 8 : guerrero negro\n",
      "Processing Record 12 of Set 8 : solomenskoye\n",
      "Processing Record 13 of Set 8 : innerleithen\n",
      "Processing Record 14 of Set 8 : pemangkat\n",
      "Processing Record 15 of Set 8 : samfya\n",
      "City not found. Skipping...\n",
      "Processing Record 16 of Set 8 : katsuura\n",
      "Processing Record 17 of Set 8 : pamekasan\n",
      "Processing Record 18 of Set 8 : sioux lookout\n",
      "Processing Record 19 of Set 8 : auki\n",
      "Processing Record 20 of Set 8 : noumea\n",
      "Processing Record 21 of Set 8 : onega\n"
     ]
    },
    {
     "name": "stdout",
     "output_type": "stream",
     "text": [
      "Processing Record 22 of Set 8 : mae hong son\n",
      "Processing Record 23 of Set 8 : lavrentiya\n",
      "Processing Record 24 of Set 8 : la mesa\n",
      "Processing Record 25 of Set 8 : ravar\n",
      "Processing Record 26 of Set 8 : puerto concordia\n",
      "Processing Record 27 of Set 8 : brokopondo\n",
      "Processing Record 28 of Set 8 : rosa zarate\n",
      "Processing Record 29 of Set 8 : lebu\n",
      "Processing Record 30 of Set 8 : ariquemes\n",
      "Processing Record 31 of Set 8 : aleksandrov gay\n",
      "Processing Record 32 of Set 8 : kibondo\n",
      "Processing Record 33 of Set 8 : chama\n",
      "Processing Record 34 of Set 8 : santiago del estero\n",
      "Processing Record 35 of Set 8 : haines junction\n",
      "Processing Record 36 of Set 8 : martinsburg\n",
      "Processing Record 37 of Set 8 : sisimiut\n",
      "Processing Record 38 of Set 8 : kondoa\n",
      "Processing Record 39 of Set 8 : bomet\n",
      "Processing Record 40 of Set 8 : malazgirt\n",
      "Processing Record 41 of Set 8 : carutapera\n",
      "Processing Record 42 of Set 8 : ovre ardal\n",
      "Processing Record 43 of Set 8 : kulhudhuffushi\n",
      "Processing Record 44 of Set 8 : rawson\n",
      "Processing Record 45 of Set 8 : belmonte\n",
      "Processing Record 46 of Set 8 : yarkovo\n",
      "Processing Record 47 of Set 8 : ugoofaaru\n",
      "Processing Record 48 of Set 8 : bhatkal\n",
      "Processing Record 49 of Set 8 : cabra\n",
      "Processing Record 50 of Set 8 : el alto\n",
      "Processing Record 0 of Set 9 : svetlogorsk\n",
      "Processing Record 1 of Set 9 : conakry\n",
      "Processing Record 2 of Set 9 : kupang\n",
      "Processing Record 3 of Set 9 : natal\n",
      "Processing Record 4 of Set 9 : pokrovskoye\n",
      "City not found. Skipping...\n",
      "Processing Record 5 of Set 9 : mahajanga\n",
      "Processing Record 6 of Set 9 : troitskoye\n",
      "Processing Record 7 of Set 9 : samarai\n",
      "Processing Record 8 of Set 9 : shingu\n",
      "Processing Record 9 of Set 9 : moctezuma\n",
      "Processing Record 10 of Set 9 : buritis\n",
      "Processing Record 11 of Set 9 : santa cruz de la palma\n",
      "Processing Record 12 of Set 9 : malanje\n",
      "Processing Record 13 of Set 9 : saliste\n",
      "Processing Record 14 of Set 9 : quincy\n",
      "Processing Record 15 of Set 9 : cochrane\n",
      "City not found. Skipping...\n",
      "Processing Record 16 of Set 9 : conde\n",
      "Processing Record 17 of Set 9 : nemuro\n",
      "Processing Record 18 of Set 9 : villarrica\n",
      "Processing Record 19 of Set 9 : half moon bay\n",
      "Processing Record 20 of Set 9 : aksarka\n",
      "Processing Record 21 of Set 9 : mehamn\n",
      "Processing Record 22 of Set 9 : prachuap khiri khan\n",
      "Processing Record 23 of Set 9 : evensk\n",
      "Processing Record 24 of Set 9 : gwanda\n",
      "Processing Record 25 of Set 9 : lasa\n",
      "Processing Record 26 of Set 9 : carroll\n",
      "Processing Record 27 of Set 9 : rio pardo\n",
      "Processing Record 28 of Set 9 : ofunato\n",
      "Processing Record 29 of Set 9 : manokwari\n",
      "Processing Record 30 of Set 9 : cockburn town\n",
      "Processing Record 31 of Set 9 : bandiagara\n",
      "Processing Record 32 of Set 9 : komsomolskiy\n",
      "Processing Record 33 of Set 9 : mpongwe\n",
      "Processing Record 34 of Set 9 : champerico\n",
      "Processing Record 35 of Set 9 : krasnyy chikoy\n",
      "Processing Record 36 of Set 9 : boende\n",
      "Processing Record 37 of Set 9 : nsanje\n",
      "Processing Record 38 of Set 9 : voh\n",
      "Processing Record 39 of Set 9 : amapa\n",
      "Processing Record 40 of Set 9 : soskovo\n",
      "City not found. Skipping...\n",
      "Processing Record 41 of Set 9 : nasice\n",
      "City not found. Skipping...\n",
      "Processing Record 42 of Set 9 : mahibadhoo\n",
      "Processing Record 43 of Set 9 : klamath falls\n",
      "Processing Record 44 of Set 9 : grindavik\n",
      "City not found. Skipping...\n",
      "Processing Record 45 of Set 9 : jurm\n",
      "Processing Record 46 of Set 9 : vestmanna\n",
      "Processing Record 47 of Set 9 : vodyane\n",
      "Processing Record 48 of Set 9 : pemberton\n",
      "Processing Record 49 of Set 9 : barcelos\n",
      "Processing Record 50 of Set 9 : dum duma\n",
      "Processing Record 0 of Set 10 : tungor\n",
      "Processing Record 1 of Set 10 : taltal\n",
      "Processing Record 2 of Set 10 : urumqi\n",
      "Processing Record 3 of Set 10 : washington\n",
      "Processing Record 4 of Set 10 : lazaro cardenas\n",
      "Processing Record 5 of Set 10 : moju\n",
      "Processing Record 6 of Set 10 : lindas\n",
      "Processing Record 7 of Set 10 : port macquarie\n",
      "Processing Record 8 of Set 10 : hornepayne\n",
      "Processing Record 9 of Set 10 : linqiong\n",
      "Processing Record 10 of Set 10 : los llanos de aridane\n",
      "Processing Record 11 of Set 10 : bonthe\n",
      "Processing Record 12 of Set 10 : buala\n",
      "Processing Record 13 of Set 10 : santa maria\n",
      "Processing Record 14 of Set 10 : marfino\n",
      "Processing Record 15 of Set 10 : sobolevo\n",
      "Processing Record 16 of Set 10 : okha\n",
      "Processing Record 17 of Set 10 : palm beach\n",
      "Processing Record 18 of Set 10 : glencoe\n",
      "Processing Record 19 of Set 10 : ust-maya\n",
      "Processing Record 20 of Set 10 : laramie\n",
      "Processing Record 21 of Set 10 : rameswaram\n",
      "Processing Record 22 of Set 10 : tahta\n",
      "Processing Record 23 of Set 10 : nago\n",
      "Processing Record 24 of Set 10 : linda\n",
      "Processing Record 25 of Set 10 : tianpeng\n",
      "Processing Record 26 of Set 10 : paso de los toros\n",
      "Processing Record 27 of Set 10 : nampa\n",
      "Processing Record 28 of Set 10 : talnakh\n",
      "Processing Record 29 of Set 10 : lagoa\n",
      "Processing Record 30 of Set 10 : manoel urbano\n",
      "Processing Record 31 of Set 10 : vila velha\n",
      "Processing Record 32 of Set 10 : resistencia\n",
      "Processing Record 33 of Set 10 : vila franca do campo\n",
      "Processing Record 34 of Set 10 : buchanan\n",
      "Processing Record 35 of Set 10 : killybegs\n",
      "Processing Record 36 of Set 10 : kitob\n",
      "Processing Record 37 of Set 10 : isangel\n",
      "Processing Record 38 of Set 10 : komatipoort\n",
      "Processing Record 39 of Set 10 : soligalich\n",
      "Processing Record 40 of Set 10 : sawtell\n",
      "Processing Record 41 of Set 10 : laukaa\n",
      "Processing Record 42 of Set 10 : mandalgovi\n",
      "Processing Record 43 of Set 10 : ulladulla\n",
      "Processing Record 44 of Set 10 : saint-philippe\n",
      "Processing Record 45 of Set 10 : yamada\n",
      "Processing Record 46 of Set 10 : la tuque\n",
      "Processing Record 47 of Set 10 : along\n",
      "Processing Record 48 of Set 10 : orange cove\n",
      "Processing Record 49 of Set 10 : general roca\n",
      "Processing Record 50 of Set 10 : bowen\n",
      "Processing Record 0 of Set 11 : hay river\n",
      "Processing Record 1 of Set 11 : terrace\n",
      "Processing Record 2 of Set 11 : moussoro\n",
      "Processing Record 3 of Set 11 : zhigansk\n",
      "Processing Record 4 of Set 11 : ormara\n",
      "Processing Record 5 of Set 11 : nizwa\n",
      "Processing Record 6 of Set 11 : najran\n",
      "Processing Record 7 of Set 11 : goure\n",
      "Processing Record 8 of Set 11 : da lat\n",
      "Processing Record 9 of Set 11 : sosua\n",
      "Processing Record 10 of Set 11 : malartic\n",
      "Processing Record 11 of Set 11 : blaubeuren\n",
      "Processing Record 12 of Set 11 : victor harbor\n",
      "Processing Record 13 of Set 11 : kruisfontein\n",
      "Processing Record 14 of Set 11 : la palma\n",
      "City not found. Skipping...\n",
      "Processing Record 15 of Set 11 : caravelas\n",
      "Processing Record 16 of Set 11 : gostyn\n",
      "Processing Record 17 of Set 11 : axim\n",
      "Processing Record 18 of Set 11 : dowa\n",
      "Processing Record 19 of Set 11 : chernolesskoye\n",
      "Processing Record 20 of Set 11 : takoradi\n",
      "City not found. Skipping...\n",
      "Processing Record 21 of Set 11 : poum\n",
      "Processing Record 22 of Set 11 : keti bandar\n",
      "Processing Record 23 of Set 11 : hobyo\n",
      "Processing Record 24 of Set 11 : george\n",
      "Processing Record 25 of Set 11 : christchurch\n",
      "City not found. Skipping...\n",
      "Processing Record 26 of Set 11 : tarbert\n",
      "Processing Record 27 of Set 11 : bexhill\n",
      "Processing Record 28 of Set 11 : murighiol\n",
      "Processing Record 29 of Set 11 : jiuquan\n",
      "Processing Record 30 of Set 11 : aykhal\n",
      "Processing Record 31 of Set 11 : kurilsk\n",
      "City not found. Skipping...\n",
      "Processing Record 32 of Set 11 : tamworth\n",
      "Processing Record 33 of Set 11 : znamenskoye\n",
      "Processing Record 34 of Set 11 : severnyy\n",
      "-----------------------------\n",
      "Data Retrieval Complete\n",
      "-----------------------------\n"
     ]
    }
   ],
   "source": [
    "#set up lists to hold the response information\n",
    "country = []\n",
    "cityname = []\n",
    "cloudiness = []\n",
    "date = []\n",
    "humidity = []\n",
    "max_temp = []\n",
    "lat = []\n",
    "lng = []\n",
    "wind_speed = []\n",
    "count_city = 1\n",
    "set_one = 1\n",
    "\n",
    "for index, city in enumerate(cities, start = 1):\n",
    "    try:\n",
    "        response = requests.get(query + city).json()\n",
    "        cityname.append(response[\"name\"])\n",
    "        cloudiness.append(response[\"clouds\"][\"all\"])\n",
    "        country.append(response[\"sys\"][\"country\"])\n",
    "        date.append(response[\"dt\"])\n",
    "        humidity.append(response[\"main\"][\"humidity\"])\n",
    "        lat.append(response[\"coord\"][\"lat\"])\n",
    "        lng.append(response[\"coord\"][\"lon\"])\n",
    "        max_temp.append(response['main']['temp_max'])\n",
    "        wind_speed.append(response[\"wind\"][\"speed\"])\n",
    "        if count_city > 49:\n",
    "            count_city = 0\n",
    "            set_one = set_one + 1\n",
    "    \n",
    "        else:\n",
    "            count_city = count_city + 1\n",
    "            \n",
    "        print(f\"Processing Record {count_city} of Set {set_one} : {city}\") \n",
    "  \n",
    "    except(KeyError, IndexError):\n",
    "        print(\"City not found. Skipping...\")\n",
    "\n",
    "print(\"-----------------------------\")\n",
    "print(\"Data Retrieval Complete\")\n",
    "print(\"-----------------------------\")\n",
    "        \n",
    "        \n"
   ]
  },
  {
   "cell_type": "markdown",
   "metadata": {},
   "source": [
    "### Convert Raw Data to DataFrame\n",
    "* Export the city data into a .csv.\n",
    "* Display the DataFrame"
   ]
  },
  {
   "cell_type": "code",
   "execution_count": 6,
   "metadata": {},
   "outputs": [],
   "source": [
    "weather_city_df = pd.DataFrame({ \n",
    "                \"City\" : cityname,\n",
    "                \"Lat\" : lat,\n",
    "                \"Lng\" : lng,\n",
    "                \"Max Temp\" : max_temp,\n",
    "                \"Humidity\" : humidity,\n",
    "                \"Cloudiness\" : cloudiness,\n",
    "                \"Wind Speed\" : wind_speed,\n",
    "                \"Country\" : country,\n",
    "                \"Date\" : date\n",
    "})"
   ]
  },
  {
   "cell_type": "code",
   "execution_count": 9,
   "metadata": {},
   "outputs": [
    {
     "data": {
      "text/html": [
       "<div>\n",
       "<style scoped>\n",
       "    .dataframe tbody tr th:only-of-type {\n",
       "        vertical-align: middle;\n",
       "    }\n",
       "\n",
       "    .dataframe tbody tr th {\n",
       "        vertical-align: top;\n",
       "    }\n",
       "\n",
       "    .dataframe thead th {\n",
       "        text-align: right;\n",
       "    }\n",
       "</style>\n",
       "<table border=\"1\" class=\"dataframe\">\n",
       "  <thead>\n",
       "    <tr style=\"text-align: right;\">\n",
       "      <th></th>\n",
       "      <th>City</th>\n",
       "      <th>Lat</th>\n",
       "      <th>Lng</th>\n",
       "      <th>Max Temp</th>\n",
       "      <th>Humidity</th>\n",
       "      <th>Cloudiness</th>\n",
       "      <th>Wind Speed</th>\n",
       "      <th>Country</th>\n",
       "      <th>Date</th>\n",
       "    </tr>\n",
       "  </thead>\n",
       "  <tbody>\n",
       "    <tr>\n",
       "      <th>0</th>\n",
       "      <td>São João da Barra</td>\n",
       "      <td>-21.6403</td>\n",
       "      <td>-41.0511</td>\n",
       "      <td>78.89</td>\n",
       "      <td>84</td>\n",
       "      <td>96</td>\n",
       "      <td>13.35</td>\n",
       "      <td>BR</td>\n",
       "      <td>1650837006</td>\n",
       "    </tr>\n",
       "    <tr>\n",
       "      <th>1</th>\n",
       "      <td>Tromsø</td>\n",
       "      <td>69.6496</td>\n",
       "      <td>18.9570</td>\n",
       "      <td>37.42</td>\n",
       "      <td>93</td>\n",
       "      <td>75</td>\n",
       "      <td>5.75</td>\n",
       "      <td>NO</td>\n",
       "      <td>1650837007</td>\n",
       "    </tr>\n",
       "    <tr>\n",
       "      <th>2</th>\n",
       "      <td>Kyzyl</td>\n",
       "      <td>51.7000</td>\n",
       "      <td>94.4500</td>\n",
       "      <td>27.34</td>\n",
       "      <td>49</td>\n",
       "      <td>30</td>\n",
       "      <td>4.12</td>\n",
       "      <td>RU</td>\n",
       "      <td>1650837007</td>\n",
       "    </tr>\n",
       "    <tr>\n",
       "      <th>3</th>\n",
       "      <td>Butaritari</td>\n",
       "      <td>3.0707</td>\n",
       "      <td>172.7902</td>\n",
       "      <td>81.30</td>\n",
       "      <td>77</td>\n",
       "      <td>100</td>\n",
       "      <td>10.94</td>\n",
       "      <td>KI</td>\n",
       "      <td>1650836587</td>\n",
       "    </tr>\n",
       "    <tr>\n",
       "      <th>4</th>\n",
       "      <td>Baiyin</td>\n",
       "      <td>36.5583</td>\n",
       "      <td>104.2081</td>\n",
       "      <td>53.58</td>\n",
       "      <td>49</td>\n",
       "      <td>53</td>\n",
       "      <td>3.56</td>\n",
       "      <td>CN</td>\n",
       "      <td>1650837008</td>\n",
       "    </tr>\n",
       "    <tr>\n",
       "      <th>...</th>\n",
       "      <td>...</td>\n",
       "      <td>...</td>\n",
       "      <td>...</td>\n",
       "      <td>...</td>\n",
       "      <td>...</td>\n",
       "      <td>...</td>\n",
       "      <td>...</td>\n",
       "      <td>...</td>\n",
       "      <td>...</td>\n",
       "    </tr>\n",
       "    <tr>\n",
       "      <th>539</th>\n",
       "      <td>Aykhal</td>\n",
       "      <td>66.0000</td>\n",
       "      <td>111.5000</td>\n",
       "      <td>5.90</td>\n",
       "      <td>95</td>\n",
       "      <td>56</td>\n",
       "      <td>2.53</td>\n",
       "      <td>RU</td>\n",
       "      <td>1650836757</td>\n",
       "    </tr>\n",
       "    <tr>\n",
       "      <th>540</th>\n",
       "      <td>Kuril'sk</td>\n",
       "      <td>45.2333</td>\n",
       "      <td>147.8833</td>\n",
       "      <td>40.15</td>\n",
       "      <td>82</td>\n",
       "      <td>68</td>\n",
       "      <td>13.78</td>\n",
       "      <td>RU</td>\n",
       "      <td>1650837139</td>\n",
       "    </tr>\n",
       "    <tr>\n",
       "      <th>541</th>\n",
       "      <td>Tamworth</td>\n",
       "      <td>52.6340</td>\n",
       "      <td>-1.6959</td>\n",
       "      <td>48.52</td>\n",
       "      <td>81</td>\n",
       "      <td>24</td>\n",
       "      <td>5.99</td>\n",
       "      <td>GB</td>\n",
       "      <td>1650837139</td>\n",
       "    </tr>\n",
       "    <tr>\n",
       "      <th>542</th>\n",
       "      <td>Znamenskoye</td>\n",
       "      <td>57.1281</td>\n",
       "      <td>73.8282</td>\n",
       "      <td>29.16</td>\n",
       "      <td>76</td>\n",
       "      <td>65</td>\n",
       "      <td>4.12</td>\n",
       "      <td>RU</td>\n",
       "      <td>1650837139</td>\n",
       "    </tr>\n",
       "    <tr>\n",
       "      <th>543</th>\n",
       "      <td>Severnyy</td>\n",
       "      <td>50.6770</td>\n",
       "      <td>36.5532</td>\n",
       "      <td>50.04</td>\n",
       "      <td>93</td>\n",
       "      <td>20</td>\n",
       "      <td>4.47</td>\n",
       "      <td>RU</td>\n",
       "      <td>1650837140</td>\n",
       "    </tr>\n",
       "  </tbody>\n",
       "</table>\n",
       "<p>544 rows × 9 columns</p>\n",
       "</div>"
      ],
      "text/plain": [
       "                  City      Lat       Lng  Max Temp  Humidity  Cloudiness  \\\n",
       "0    São João da Barra -21.6403  -41.0511     78.89        84          96   \n",
       "1               Tromsø  69.6496   18.9570     37.42        93          75   \n",
       "2                Kyzyl  51.7000   94.4500     27.34        49          30   \n",
       "3           Butaritari   3.0707  172.7902     81.30        77         100   \n",
       "4               Baiyin  36.5583  104.2081     53.58        49          53   \n",
       "..                 ...      ...       ...       ...       ...         ...   \n",
       "539             Aykhal  66.0000  111.5000      5.90        95          56   \n",
       "540           Kuril'sk  45.2333  147.8833     40.15        82          68   \n",
       "541           Tamworth  52.6340   -1.6959     48.52        81          24   \n",
       "542        Znamenskoye  57.1281   73.8282     29.16        76          65   \n",
       "543           Severnyy  50.6770   36.5532     50.04        93          20   \n",
       "\n",
       "     Wind Speed Country        Date  \n",
       "0         13.35      BR  1650837006  \n",
       "1          5.75      NO  1650837007  \n",
       "2          4.12      RU  1650837007  \n",
       "3         10.94      KI  1650836587  \n",
       "4          3.56      CN  1650837008  \n",
       "..          ...     ...         ...  \n",
       "539        2.53      RU  1650836757  \n",
       "540       13.78      RU  1650837139  \n",
       "541        5.99      GB  1650837139  \n",
       "542        4.12      RU  1650837139  \n",
       "543        4.47      RU  1650837140  \n",
       "\n",
       "[544 rows x 9 columns]"
      ]
     },
     "execution_count": 9,
     "metadata": {},
     "output_type": "execute_result"
    }
   ],
   "source": [
    "weather_city_df"
   ]
  },
  {
   "cell_type": "code",
   "execution_count": 13,
   "metadata": {},
   "outputs": [],
   "source": [
    "#save csv output\n",
    "weather_city_df.to_csv(\"weather_data_cities.csv\")"
   ]
  },
  {
   "cell_type": "markdown",
   "metadata": {},
   "source": [
    "## Inspect the data and remove the cities where the humidity > 100%.\n",
    "----\n",
    "Skip this step if there are no cities that have humidity > 100%. "
   ]
  },
  {
   "cell_type": "code",
   "execution_count": 14,
   "metadata": {},
   "outputs": [
    {
     "data": {
      "text/html": [
       "<div>\n",
       "<style scoped>\n",
       "    .dataframe tbody tr th:only-of-type {\n",
       "        vertical-align: middle;\n",
       "    }\n",
       "\n",
       "    .dataframe tbody tr th {\n",
       "        vertical-align: top;\n",
       "    }\n",
       "\n",
       "    .dataframe thead th {\n",
       "        text-align: right;\n",
       "    }\n",
       "</style>\n",
       "<table border=\"1\" class=\"dataframe\">\n",
       "  <thead>\n",
       "    <tr style=\"text-align: right;\">\n",
       "      <th></th>\n",
       "      <th>Lat</th>\n",
       "      <th>Lng</th>\n",
       "      <th>Max Temp</th>\n",
       "      <th>Humidity</th>\n",
       "      <th>Cloudiness</th>\n",
       "      <th>Wind Speed</th>\n",
       "      <th>Date</th>\n",
       "    </tr>\n",
       "  </thead>\n",
       "  <tbody>\n",
       "    <tr>\n",
       "      <th>count</th>\n",
       "      <td>544.000000</td>\n",
       "      <td>544.000000</td>\n",
       "      <td>544.000000</td>\n",
       "      <td>544.000000</td>\n",
       "      <td>544.000000</td>\n",
       "      <td>544.000000</td>\n",
       "      <td>5.440000e+02</td>\n",
       "    </tr>\n",
       "    <tr>\n",
       "      <th>mean</th>\n",
       "      <td>20.434162</td>\n",
       "      <td>19.420721</td>\n",
       "      <td>59.914614</td>\n",
       "      <td>73.086397</td>\n",
       "      <td>59.022059</td>\n",
       "      <td>8.017482</td>\n",
       "      <td>1.650837e+09</td>\n",
       "    </tr>\n",
       "    <tr>\n",
       "      <th>std</th>\n",
       "      <td>33.989013</td>\n",
       "      <td>92.290723</td>\n",
       "      <td>20.997848</td>\n",
       "      <td>21.225482</td>\n",
       "      <td>38.394524</td>\n",
       "      <td>5.609270</td>\n",
       "      <td>1.794747e+02</td>\n",
       "    </tr>\n",
       "    <tr>\n",
       "      <th>min</th>\n",
       "      <td>-54.800000</td>\n",
       "      <td>-175.200000</td>\n",
       "      <td>-9.130000</td>\n",
       "      <td>1.000000</td>\n",
       "      <td>0.000000</td>\n",
       "      <td>0.000000</td>\n",
       "      <td>1.650836e+09</td>\n",
       "    </tr>\n",
       "    <tr>\n",
       "      <th>25%</th>\n",
       "      <td>-8.784900</td>\n",
       "      <td>-63.168025</td>\n",
       "      <td>48.002500</td>\n",
       "      <td>63.000000</td>\n",
       "      <td>20.000000</td>\n",
       "      <td>3.905000</td>\n",
       "      <td>1.650837e+09</td>\n",
       "    </tr>\n",
       "    <tr>\n",
       "      <th>50%</th>\n",
       "      <td>25.801650</td>\n",
       "      <td>24.880600</td>\n",
       "      <td>63.205000</td>\n",
       "      <td>78.000000</td>\n",
       "      <td>74.500000</td>\n",
       "      <td>6.500000</td>\n",
       "      <td>1.650837e+09</td>\n",
       "    </tr>\n",
       "    <tr>\n",
       "      <th>75%</th>\n",
       "      <td>49.975000</td>\n",
       "      <td>103.712725</td>\n",
       "      <td>77.772500</td>\n",
       "      <td>88.250000</td>\n",
       "      <td>98.000000</td>\n",
       "      <td>11.202500</td>\n",
       "      <td>1.650837e+09</td>\n",
       "    </tr>\n",
       "    <tr>\n",
       "      <th>max</th>\n",
       "      <td>78.218600</td>\n",
       "      <td>179.316700</td>\n",
       "      <td>95.220000</td>\n",
       "      <td>100.000000</td>\n",
       "      <td>100.000000</td>\n",
       "      <td>43.130000</td>\n",
       "      <td>1.650837e+09</td>\n",
       "    </tr>\n",
       "  </tbody>\n",
       "</table>\n",
       "</div>"
      ],
      "text/plain": [
       "              Lat         Lng    Max Temp    Humidity  Cloudiness  Wind Speed  \\\n",
       "count  544.000000  544.000000  544.000000  544.000000  544.000000  544.000000   \n",
       "mean    20.434162   19.420721   59.914614   73.086397   59.022059    8.017482   \n",
       "std     33.989013   92.290723   20.997848   21.225482   38.394524    5.609270   \n",
       "min    -54.800000 -175.200000   -9.130000    1.000000    0.000000    0.000000   \n",
       "25%     -8.784900  -63.168025   48.002500   63.000000   20.000000    3.905000   \n",
       "50%     25.801650   24.880600   63.205000   78.000000   74.500000    6.500000   \n",
       "75%     49.975000  103.712725   77.772500   88.250000   98.000000   11.202500   \n",
       "max     78.218600  179.316700   95.220000  100.000000  100.000000   43.130000   \n",
       "\n",
       "               Date  \n",
       "count  5.440000e+02  \n",
       "mean   1.650837e+09  \n",
       "std    1.794747e+02  \n",
       "min    1.650836e+09  \n",
       "25%    1.650837e+09  \n",
       "50%    1.650837e+09  \n",
       "75%    1.650837e+09  \n",
       "max    1.650837e+09  "
      ]
     },
     "execution_count": 14,
     "metadata": {},
     "output_type": "execute_result"
    }
   ],
   "source": [
    "weather_city_df.describe()"
   ]
  },
  {
   "cell_type": "markdown",
   "metadata": {},
   "source": [
    "## Plotting the Data\n",
    "* Use proper labeling of the plots using plot titles (including date of analysis) and axes labels.\n",
    "* Save the plotted figures as .pngs in the output_data folder\n",
    "* Below are examples of what you should get but your results will be different."
   ]
  },
  {
   "cell_type": "markdown",
   "metadata": {},
   "source": [
    "## Latitude vs. Temperature Plot"
   ]
  },
  {
   "cell_type": "code",
   "execution_count": 15,
   "metadata": {
    "scrolled": true
   },
   "outputs": [
    {
     "data": {
      "image/png": "[encoded data removed]",
      "text/plain": [
       "<Figure size 432x288 with 1 Axes>"
      ]
     },
     "metadata": {
      "needs_background": "light"
     },
     "output_type": "display_data"
    }
   ],
   "source": [
    "# Create Lat vs. Temp scatter plot\n",
    "plt.scatter(weather_city_df[\"Lat\"], weather_city_df[\"Max Temp\"])\n",
    "plt.title(\"City Latitude vs. Max Temperature\")\n",
    "plt.xlabel(\"Latitude\")\n",
    "plt.ylabel(\"Max Temperature (F)\")\n",
    "plt.grid()\n",
    "\n",
    "# Save plot as png\n",
    "plt.savefig(\"lat vs temp plot.png\")"
   ]
  },
  {
   "cell_type": "markdown",
   "metadata": {},
   "source": [
    "## Latitude vs. Humidity Plot"
   ]
  },
  {
   "cell_type": "code",
   "execution_count": 16,
   "metadata": {},
   "outputs": [
    {
     "data": {
      "image/png": "[encoded data removed]",
      "text/plain": [
       "<Figure size 432x288 with 1 Axes>"
      ]
     },
     "metadata": {
      "needs_background": "light"
     },
     "output_type": "display_data"
    }
   ],
   "source": [
    "#Create Lat vs. Humidity Scatter Plot\n",
    "plt.scatter(weather_city_df[\"Lat\"], weather_city_df[\"Humidity\"])\n",
    "plt.title(\"City Latitude vs. Humidity\")\n",
    "plt.xlabel(\"Latitude\")\n",
    "plt.ylabel(\"Humidity (%)\")\n",
    "plt.grid()\n",
    "\n",
    "# Save plot as png\n",
    "plt.savefig(\"lat vs humidity plot.png\")"
   ]
  },
  {
   "cell_type": "markdown",
   "metadata": {},
   "source": [
    "## Latitude vs. Cloudiness Plot"
   ]
  },
  {
   "cell_type": "code",
   "execution_count": 17,
   "metadata": {},
   "outputs": [
    {
     "data": {
      "image/png": "[encoded data removed]",
      "text/plain": [
       "<Figure size 432x288 with 1 Axes>"
      ]
     },
     "metadata": {
      "needs_background": "light"
     },
     "output_type": "display_data"
    }
   ],
   "source": [
    "#Create Lat vs. Cloudiness Scatter Plot\n",
    "plt.scatter(weather_city_df[\"Lat\"], weather_city_df[\"Cloudiness\"])\n",
    "plt.title(\"City Latitude vs. Cloudiness\")\n",
    "plt.xlabel(\"Latitude\")\n",
    "plt.ylabel(\"Cloudiness (%)\")\n",
    "plt.grid()\n",
    "\n",
    "# Save plot as png\n",
    "plt.savefig(\"lat vs cloud plot.png\")"
   ]
  },
  {
   "cell_type": "markdown",
   "metadata": {},
   "source": [
    "## Latitude vs. Wind Speed Plot"
   ]
  },
  {
   "cell_type": "code",
   "execution_count": 18,
   "metadata": {},
   "outputs": [
    {
     "data": {
      "image/png": "[encoded data removed]",
      "text/plain": [
       "<Figure size 432x288 with 1 Axes>"
      ]
     },
     "metadata": {
      "needs_background": "light"
     },
     "output_type": "display_data"
    }
   ],
   "source": [
    "#Create Lat vs. Cloudiness Scatter Plot\n",
    "plt.scatter(weather_city_df[\"Lat\"], weather_city_df[\"Wind Speed\"])\n",
    "plt.title(\"City Latitude vs. Wind Speed\")\n",
    "plt.xlabel(\"Latitude\")\n",
    "plt.ylabel(\"Wind Speed (mph)\")\n",
    "plt.grid()\n",
    "\n",
    "# Save plot as png\n",
    "plt.savefig(\"lat vs wind plot.png\")"
   ]
  },
  {
   "cell_type": "markdown",
   "metadata": {},
   "source": [
    "## Linear Regression"
   ]
  },
  {
   "cell_type": "code",
   "execution_count": 19,
   "metadata": {},
   "outputs": [],
   "source": [
    "#set up hemisphere using latitudes\n",
    "northern_hemisphere = weather_city_df.loc[weather_city_df[\"Lat\"] >= 0]\n",
    "southern_hemisphere = weather_city_df.loc[weather_city_df[\"Lat\"] < 0]"
   ]
  },
  {
   "cell_type": "code",
   "execution_count": 20,
   "metadata": {},
   "outputs": [],
   "source": [
    "#define function for linear agression and scatterplott\n",
    "def linear_agression(x,y):\n",
    "    \n",
    "    (slope, intercept, rvalue, pvalue, stderr) = linregress(x, y)\n",
    "    regress_values = x * slope + intercept\n",
    "    line_eq = \"y = \" + str(round(slope,2)) + \"x + \" + str(round(intercept,2))\n",
    "    plt.scatter(x, y)\n",
    "    plt.plot(x,regress_values,\"r-\")\n",
    "    print(f\"The r-squared is: {rvalue}\")\n",
    "    return line_eq\n",
    "    \n",
    "\n",
    "# Define a fuction for annotating\n",
    "def annotate(line_eq, a, b):\n",
    "    plt.annotate(line_eq,(a,b),fontsize=12,color=\"red\")\n"
   ]
  },
  {
   "cell_type": "markdown",
   "metadata": {},
   "source": [
    "####  Northern Hemisphere - Max Temp vs. Latitude Linear Regression"
   ]
  },
  {
   "cell_type": "code",
   "execution_count": 21,
   "metadata": {},
   "outputs": [
    {
     "name": "stdout",
     "output_type": "stream",
     "text": [
      "The r-squared is: -0.8671114820822922\n"
     ]
    },
    {
     "data": {
      "image/png": "[encoded data removed]",
      "text/plain": [
       "<Figure size 432x288 with 1 Axes>"
      ]
     },
     "metadata": {
      "needs_background": "light"
     },
     "output_type": "display_data"
    }
   ],
   "source": [
    "#call on function above\n",
    "#plot linear regression \n",
    "equation = linear_agression(northern_hemisphere[\"Lat\"], northern_hemisphere[\"Max Temp\"])\n",
    "annotate(equation, 0, 0)\n",
    "plt.xlabel(\"Latitude\")\n",
    "plt.ylabel(\"Max Temp (F)\")\n",
    "\n",
    "#save png file\n",
    "plt.savefig(\"Northern Hemisphere - Max Temp vs Lat Linear Regress.png\")"
   ]
  },
  {
   "cell_type": "markdown",
   "metadata": {},
   "source": [
    "####  Southern Hemisphere - Max Temp vs. Latitude Linear Regression"
   ]
  },
  {
   "cell_type": "code",
   "execution_count": 29,
   "metadata": {},
   "outputs": [
    {
     "name": "stdout",
     "output_type": "stream",
     "text": [
      "The r-squared is: 0.6952855427306799\n"
     ]
    },
    {
     "data": {
      "image/png": "[encoded data removed]",
      "text/plain": [
       "<Figure size 432x288 with 1 Axes>"
      ]
     },
     "metadata": {
      "needs_background": "light"
     },
     "output_type": "display_data"
    }
   ],
   "source": [
    "#call on function above\n",
    "#plot linear regression \n",
    "equation = linear_agression(southern_hemisphere[\"Lat\"], southern_hemisphere[\"Max Temp\"])\n",
    "annotate(equation, -50, 80)\n",
    "plt.xlabel(\"Latitude\")\n",
    "plt.ylabel(\"Max Temp (F)\")\n",
    "\n",
    "#save png file\n",
    "plt.savefig(\"Southern Hemisphere - Max Temp vs Lat Linear Regress.png\")"
   ]
  },
  {
   "cell_type": "markdown",
   "metadata": {},
   "source": [
    "####  Northern Hemisphere - Humidity (%) vs. Latitude Linear Regression"
   ]
  },
  {
   "cell_type": "code",
   "execution_count": 23,
   "metadata": {},
   "outputs": [
    {
     "name": "stdout",
     "output_type": "stream",
     "text": [
      "The r-squared is: 0.22328250595756438\n"
     ]
    },
    {
     "data": {
      "image/png": "[encoded data removed]",
      "text/plain": [
       "<Figure size 432x288 with 1 Axes>"
      ]
     },
     "metadata": {
      "needs_background": "light"
     },
     "output_type": "display_data"
    }
   ],
   "source": [
    "#call on function above\n",
    "#plot linear regression \n",
    "equation = linear_agression(northern_hemisphere[\"Lat\"], northern_hemisphere[\"Humidity\"])\n",
    "annotate(equation, 50, 20)\n",
    "plt.xlabel(\"Latitude\")\n",
    "plt.ylabel(\"Humidity (%)\")\n",
    "\n",
    "#save png file\n",
    "plt.savefig(\"Northern Hemisphere - Humidity vs Lat Linear Regress.png\")"
   ]
  },
  {
   "cell_type": "markdown",
   "metadata": {},
   "source": [
    "####  Southern Hemisphere - Humidity (%) vs. Latitude Linear Regression"
   ]
  },
  {
   "cell_type": "code",
   "execution_count": 24,
   "metadata": {},
   "outputs": [
    {
     "name": "stdout",
     "output_type": "stream",
     "text": [
      "The r-squared is: 0.34394678033330794\n"
     ]
    },
    {
     "data": {
      "image/png": "[encoded data removed]",
      "text/plain": [
       "<Figure size 432x288 with 1 Axes>"
      ]
     },
     "metadata": {
      "needs_background": "light"
     },
     "output_type": "display_data"
    }
   ],
   "source": [
    "#call on function above\n",
    "#plot linear regression \n",
    "equation = linear_agression(southern_hemisphere[\"Lat\"], southern_hemisphere[\"Humidity\"])\n",
    "annotate(equation, -50, 20)\n",
    "plt.xlabel(\"Latitude\")\n",
    "plt.ylabel(\"Humidity (%)\")\n",
    "\n",
    "#save png file\n",
    "plt.savefig(\"Southern Hemisphere - Humidity vs Lat Linear Regress.png\")"
   ]
  },
  {
   "cell_type": "markdown",
   "metadata": {},
   "source": [
    "####  Northern Hemisphere - Cloudiness (%) vs. Latitude Linear Regression"
   ]
  },
  {
   "cell_type": "code",
   "execution_count": 25,
   "metadata": {},
   "outputs": [
    {
     "name": "stdout",
     "output_type": "stream",
     "text": [
      "The r-squared is: 0.2400757460304862\n"
     ]
    },
    {
     "data": {
      "image/png": "[encoded data removed]",
      "text/plain": [
       "<Figure size 432x288 with 1 Axes>"
      ]
     },
     "metadata": {
      "needs_background": "light"
     },
     "output_type": "display_data"
    }
   ],
   "source": [
    "#call on function above\n",
    "#plot linear regression \n",
    "equation = linear_agression(northern_hemisphere[\"Lat\"], northern_hemisphere[\"Cloudiness\"])\n",
    "annotate(equation, 10, 60)\n",
    "plt.xlabel(\"Latitude\")\n",
    "plt.ylabel(\"Cloudiness (%)\")\n",
    "\n",
    "#save png file\n",
    "plt.savefig(\"Northern Hemisphere - Cloudiness vs Lat Linear Regress.png\")"
   ]
  },
  {
   "cell_type": "markdown",
   "metadata": {},
   "source": [
    "####  Southern Hemisphere - Cloudiness (%) vs. Latitude Linear Regression"
   ]
  },
  {
   "cell_type": "code",
   "execution_count": 26,
   "metadata": {},
   "outputs": [
    {
     "name": "stdout",
     "output_type": "stream",
     "text": [
      "The r-squared is: 0.12697830594526344\n"
     ]
    },
    {
     "data": {
      "image/png": "[encoded data removed]",
      "text/plain": [
       "<Figure size 432x288 with 1 Axes>"
      ]
     },
     "metadata": {
      "needs_background": "light"
     },
     "output_type": "display_data"
    }
   ],
   "source": [
    "#call on function above\n",
    "#plot linear regression \n",
    "equation = linear_agression(southern_hemisphere[\"Lat\"], southern_hemisphere[\"Cloudiness\"])\n",
    "annotate(equation, -50, 20)\n",
    "plt.xlabel(\"Latitude\")\n",
    "plt.ylabel(\"Cloudiness (%)\")\n",
    "\n",
    "#save png file\n",
    "plt.savefig(\"Southern Hemisphere - Humidity vs Lat Linear Regress.png\")"
   ]
  },
  {
   "cell_type": "markdown",
   "metadata": {},
   "source": [
    "####  Northern Hemisphere - Wind Speed (mph) vs. Latitude Linear Regression"
   ]
  },
  {
   "cell_type": "code",
   "execution_count": 27,
   "metadata": {},
   "outputs": [
    {
     "name": "stdout",
     "output_type": "stream",
     "text": [
      "The r-squared is: -0.058731447122117815\n"
     ]
    },
    {
     "data": {
      "image/png": "[encoded data removed]",
      "text/plain": [
       "<Figure size 432x288 with 1 Axes>"
      ]
     },
     "metadata": {
      "needs_background": "light"
     },
     "output_type": "display_data"
    }
   ],
   "source": [
    "#call on function above\n",
    "#plot linear regression \n",
    "equation = linear_agression(northern_hemisphere[\"Lat\"], northern_hemisphere[\"Wind Speed\"])\n",
    "annotate(equation, 10, 25)\n",
    "plt.xlabel(\"Latitude\")\n",
    "plt.ylabel(\"Wind Speed (mph)\")\n",
    "\n",
    "#save png file\n",
    "plt.savefig(\"Northern Hemisphere - Wind Speed vs Lat Linear Regress.png\")"
   ]
  },
  {
   "cell_type": "markdown",
   "metadata": {},
   "source": [
    "####  Southern Hemisphere - Wind Speed (mph) vs. Latitude Linear Regression"
   ]
  },
  {
   "cell_type": "code",
   "execution_count": 28,
   "metadata": {},
   "outputs": [
    {
     "name": "stdout",
     "output_type": "stream",
     "text": [
      "The r-squared is: -0.40516362447871923\n"
     ]
    },
    {
     "data": {
      "image/png": "[encoded data removed]",
      "text/plain": [
       "<Figure size 432x288 with 1 Axes>"
      ]
     },
     "metadata": {
      "needs_background": "light"
     },
     "output_type": "display_data"
    }
   ],
   "source": [
    "#call on function above\n",
    "#plot linear regression \n",
    "equation = linear_agression(southern_hemisphere[\"Lat\"], southern_hemisphere[\"Wind Speed\"])\n",
    "annotate(equation, -50, 30)\n",
    "plt.xlabel(\"Latitude\")\n",
    "plt.ylabel(\"Wind Speed (mph)\")\n",
    "\n",
    "#save png file\n",
    "plt.savefig(\"Southern Hemisphere - Wind Speed vs Lat Linear Regress.png\")"
   ]
  },
  {
   "cell_type": "code",
   "execution_count": null,
   "metadata": {},
   "outputs": [],
   "source": []
  }
 ],
 "metadata": {
  "anaconda-cloud": {},
  "kernel_info": {
   "name": "python3"
  },
  "kernelspec": {
   "display_name": "Python [conda env:.conda-PythonData38]",
   "language": "python",
   "name": "conda-env-.conda-PythonData38-py"
  },
  "language_info": {
   "codemirror_mode": {
    "name": "ipython",
    "version": 3
   },
   "file_extension": ".py",
   "mimetype": "text/x-python",
   "name": "python",
   "nbconvert_exporter": "python",
   "pygments_lexer": "ipython3",
   "version": "3.8.12"
  },
  "latex_envs": {
   "LaTeX_envs_menu_present": true,
   "autoclose": false,
   "autocomplete": true,
   "bibliofile": "biblio.bib",
   "cite_by": "apalike",
   "current_citInitial": 1,
   "eqLabelWithNumbers": true,
   "eqNumInitial": 1,
   "hotkeys": {
    "equation": "Ctrl-E",
    "itemize": "Ctrl-I"
   },
   "labels_anchors": false,
   "latex_user_defs": false,
   "report_style_numbering": false,
   "user_envs_cfg": false
  },
  "nteract": {
   "version": "0.12.3"
  }
 },
 "nbformat": 4,
 "nbformat_minor": 2
}
