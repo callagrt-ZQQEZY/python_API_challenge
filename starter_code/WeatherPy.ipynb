{
 "cells": [
  {
   "cell_type": "markdown",
   "metadata": {},
   "source": [
    "# WeatherPy\n",
    "----\n",
    "\n",
    "#### Note\n",
    "* Instructions have been included for each segment. You do not have to follow them exactly, but they are included to help you think through the steps.\n",
    "\n",
    "#### Analyis\n",
    "Observed T\n",
    "1.  The best linear regressions are seen in the latitude versus max temperature for Northern Hemisphere and Southern Hemisphere. There seems to be a strong relationship between temperature and latitude.\n",
    "2.  Latitude especially doesn't have a strong relationship with wind speed. The wind speed seems to be relatively steady at all latitudes.\n",
    "3.  The humidity of loaction does not seem to have a correlation to either hemisphere. Both hemispheres have high humidity and the scatter plot is all over the splace. We can conclude that there is poor correlation between humidity and latitudes."
   ]
  },
  {
   "cell_type": "code",
   "execution_count": 1,
   "metadata": {
    "scrolled": true
   },
   "outputs": [],
   "source": [
    "# Dependencies and Setup\n",
    "import matplotlib.pyplot as plt\n",
    "import pandas as pd\n",
    "import numpy as np\n",
    "import requests\n",
    "import time\n",
    "from scipy.stats import linregress\n",
    "import json\n",
    "\n",
    "# Import API key\n",
    "from api_keys import weather_api_key\n",
    "\n",
    "# Incorporated citipy to determine city based on latitude and longitude\n",
    "from citipy import citipy\n",
    "\n",
    "# Output File (CSV)\n",
    "output_data_file = \"output_data/cities.csv\"\n",
    "\n",
    "# Range of latitudes and longitudes\n",
    "lat_range = (-90, 90)\n",
    "lng_range = (-180, 180)"
   ]
  },
  {
   "cell_type": "markdown",
   "metadata": {},
   "source": [
    "## Generate Cities List"
   ]
  },
  {
   "cell_type": "code",
   "execution_count": 2,
   "metadata": {},
   "outputs": [
    {
     "data": {
      "text/plain": [
       "603"
      ]
     },
     "execution_count": 2,
     "metadata": {},
     "output_type": "execute_result"
    }
   ],
   "source": [
    "# List for holding lat_lngs and cities\n",
    "lat_lngs = []\n",
    "cities = []\n",
    "\n",
    "# Create a set of random lat and lng combinations\n",
    "lats = np.random.uniform(lat_range[0], lat_range[1], size=1500)\n",
    "lngs = np.random.uniform(lng_range[0], lng_range[1], size=1500)\n",
    "lat_lngs = zip(lats, lngs)\n",
    "\n",
    "# Identify nearest city for each lat, lng combination\n",
    "for lat_lng in lat_lngs:\n",
    "    city = citipy.nearest_city(lat_lng[0], lat_lng[1]).city_name\n",
    "    \n",
    "    # If the city is unique, then add it to a our cities list\n",
    "    if city not in cities:\n",
    "        cities.append(city)\n",
    "\n",
    "# Print the city count to confirm sufficient count\n",
    "len(cities)"
   ]
  },
  {
   "cell_type": "markdown",
   "metadata": {},
   "source": [
    "### Perform API Calls\n",
    "* Perform a weather check on each city using a series of successive API calls.\n",
    "* Include a print log of each city as it'sbeing processed (with the city number and city name).\n"
   ]
  },
  {
   "cell_type": "code",
   "execution_count": 1,
   "metadata": {
    "scrolled": true
   },
   "outputs": [
    {
     "ename": "NameError",
     "evalue": "name 'weather_api_key' is not defined",
     "output_type": "error",
     "traceback": [
      "\u001b[1;31m---------------------------------------------------------------------------\u001b[0m",
      "\u001b[1;31mNameError\u001b[0m                                 Traceback (most recent call last)",
      "\u001b[1;32m~\\AppData\\Local\\Temp/ipykernel_11572/662930234.py\u001b[0m in \u001b[0;36m<module>\u001b[1;34m\u001b[0m\n\u001b[0;32m      1\u001b[0m \u001b[0murl\u001b[0m \u001b[1;33m=\u001b[0m \u001b[1;34m\"http://api.openweathermap.org/data/2.5/weather?appid=\"\u001b[0m\u001b[1;33m\u001b[0m\u001b[1;33m\u001b[0m\u001b[0m\n\u001b[1;32m----> 2\u001b[1;33m \u001b[0mtarget_url\u001b[0m \u001b[1;33m=\u001b[0m \u001b[0murl\u001b[0m \u001b[1;33m+\u001b[0m \u001b[0mweather_api_key\u001b[0m\u001b[1;33m\u001b[0m\u001b[1;33m\u001b[0m\u001b[0m\n\u001b[0m\u001b[0;32m      3\u001b[0m \u001b[1;33m\u001b[0m\u001b[0m\n\u001b[0;32m      4\u001b[0m \u001b[1;33m\u001b[0m\u001b[0m\n",
      "\u001b[1;31mNameError\u001b[0m: name 'weather_api_key' is not defined"
     ]
    }
   ],
   "source": [
    "url = \"http://api.openweathermap.org/data/2.5/weather?appid=\"\n",
    "target_url = url + weather_api_key\n",
    "\n",
    "\n"
   ]
  },
  {
   "cell_type": "code",
   "execution_count": 2,
   "metadata": {},
   "outputs": [
    {
     "ename": "NameError",
     "evalue": "name 'target_url' is not defined",
     "output_type": "error",
     "traceback": [
      "\u001b[1;31m---------------------------------------------------------------------------\u001b[0m",
      "\u001b[1;31mNameError\u001b[0m                                 Traceback (most recent call last)",
      "\u001b[1;32m~\\AppData\\Local\\Temp/ipykernel_11572/2057172710.py\u001b[0m in \u001b[0;36m<module>\u001b[1;34m\u001b[0m\n\u001b[0;32m      1\u001b[0m \u001b[0munits\u001b[0m \u001b[1;33m=\u001b[0m \u001b[1;34m\"imperial\"\u001b[0m\u001b[1;33m\u001b[0m\u001b[1;33m\u001b[0m\u001b[0m\n\u001b[0;32m      2\u001b[0m \u001b[1;33m\u001b[0m\u001b[0m\n\u001b[1;32m----> 3\u001b[1;33m \u001b[0mquery\u001b[0m \u001b[1;33m=\u001b[0m \u001b[1;34mf\"{target_url}&units={units}&q=\"\u001b[0m\u001b[1;33m\u001b[0m\u001b[1;33m\u001b[0m\u001b[0m\n\u001b[0m",
      "\u001b[1;31mNameError\u001b[0m: name 'target_url' is not defined"
     ]
    }
   ],
   "source": [
    "units = \"imperial\"\n",
    "\n",
    "query = f\"{target_url}&units={units}&q=\"\n"
   ]
  },
  {
   "cell_type": "code",
   "execution_count": 5,
   "metadata": {},
   "outputs": [
    {
     "name": "stdout",
     "output_type": "stream",
     "text": [
      "Processing Record 2 of Set 1 : ahipara\n",
      "City not found. Skipping...\n",
      "Processing Record 3 of Set 1 : saint-philippe\n",
      "Processing Record 4 of Set 1 : jamestown\n",
      "Processing Record 5 of Set 1 : rikitea\n",
      "City not found. Skipping...\n",
      "Processing Record 6 of Set 1 : udachnyy\n",
      "Processing Record 7 of Set 1 : zambezi\n",
      "City not found. Skipping...\n",
      "Processing Record 8 of Set 1 : aklavik\n",
      "Processing Record 9 of Set 1 : castro\n",
      "Processing Record 10 of Set 1 : saldanha\n",
      "Processing Record 11 of Set 1 : busselton\n",
      "City not found. Skipping...\n",
      "Processing Record 12 of Set 1 : mataura\n",
      "City not found. Skipping...\n",
      "Processing Record 13 of Set 1 : thies\n",
      "Processing Record 14 of Set 1 : severo-kurilsk\n",
      "Processing Record 15 of Set 1 : ambilobe\n",
      "Processing Record 16 of Set 1 : ancud\n",
      "Processing Record 17 of Set 1 : punta arenas\n",
      "Processing Record 18 of Set 1 : andenes\n",
      "Processing Record 19 of Set 1 : ostrovnoy\n",
      "Processing Record 20 of Set 1 : coruripe\n",
      "Processing Record 21 of Set 1 : saint george\n",
      "Processing Record 22 of Set 1 : vaini\n",
      "Processing Record 23 of Set 1 : broome\n",
      "Processing Record 24 of Set 1 : upernavik\n",
      "Processing Record 25 of Set 1 : albany\n",
      "Processing Record 26 of Set 1 : tessalit\n",
      "Processing Record 27 of Set 1 : antalaha\n",
      "Processing Record 28 of Set 1 : tasiilaq\n",
      "Processing Record 29 of Set 1 : yellowknife\n",
      "Processing Record 30 of Set 1 : dunedin\n",
      "Processing Record 31 of Set 1 : sandpoint\n",
      "Processing Record 32 of Set 1 : wanning\n",
      "Processing Record 33 of Set 1 : atuona\n",
      "Processing Record 34 of Set 1 : plouzane\n",
      "Processing Record 35 of Set 1 : bluff\n",
      "City not found. Skipping...\n",
      "Processing Record 36 of Set 1 : san jose de guanipa\n",
      "Processing Record 37 of Set 1 : chuy\n",
      "Processing Record 38 of Set 1 : ribeira grande\n",
      "Processing Record 39 of Set 1 : ushuaia\n",
      "Processing Record 40 of Set 1 : sangar\n",
      "Processing Record 41 of Set 1 : brigantine\n",
      "Processing Record 42 of Set 1 : svetlogorsk\n",
      "Processing Record 43 of Set 1 : aitape\n",
      "Processing Record 44 of Set 1 : khatanga\n",
      "Processing Record 45 of Set 1 : hobart\n",
      "Processing Record 46 of Set 1 : faanui\n",
      "Processing Record 47 of Set 1 : whitehorse\n",
      "Processing Record 48 of Set 1 : sligo\n",
      "Processing Record 49 of Set 1 : kalia\n",
      "Processing Record 50 of Set 1 : thompson\n",
      "Processing Record 0 of Set 2 : new norfolk\n",
      "Processing Record 1 of Set 2 : yaan\n",
      "Processing Record 2 of Set 2 : nouadhibou\n",
      "Processing Record 3 of Set 2 : santa clara\n",
      "Processing Record 4 of Set 2 : dakar\n",
      "Processing Record 5 of Set 2 : delta del tigre\n",
      "Processing Record 6 of Set 2 : sao filipe\n",
      "Processing Record 7 of Set 2 : farah\n",
      "Processing Record 8 of Set 2 : mongo\n",
      "Processing Record 9 of Set 2 : tuktoyaktuk\n",
      "Processing Record 10 of Set 2 : kapaa\n",
      "Processing Record 11 of Set 2 : bengkulu\n",
      "Processing Record 12 of Set 2 : turukhansk\n",
      "Processing Record 13 of Set 2 : tuatapere\n",
      "Processing Record 14 of Set 2 : dolinsk\n",
      "Processing Record 15 of Set 2 : bredasdorp\n",
      "Processing Record 16 of Set 2 : pevek\n",
      "Processing Record 17 of Set 2 : sikasso\n",
      "Processing Record 18 of Set 2 : kodiak\n",
      "Processing Record 19 of Set 2 : kruisfontein\n",
      "Processing Record 20 of Set 2 : henties bay\n",
      "Processing Record 21 of Set 2 : kyabe\n",
      "Processing Record 22 of Set 2 : volzhsk\n",
      "Processing Record 23 of Set 2 : fortuna\n",
      "Processing Record 24 of Set 2 : hermanus\n",
      "Processing Record 25 of Set 2 : barrow\n",
      "City not found. Skipping...\n",
      "Processing Record 26 of Set 2 : nisia floresta\n",
      "Processing Record 27 of Set 2 : beckley\n",
      "Processing Record 28 of Set 2 : port alfred\n",
      "Processing Record 29 of Set 2 : buin\n",
      "Processing Record 30 of Set 2 : estelle\n",
      "Processing Record 31 of Set 2 : ouesso\n",
      "Processing Record 32 of Set 2 : laguna\n",
      "City not found. Skipping...\n",
      "Processing Record 33 of Set 2 : chilliwack\n",
      "Processing Record 34 of Set 2 : llano largo\n",
      "City not found. Skipping...\n",
      "Processing Record 35 of Set 2 : yulara\n",
      "Processing Record 36 of Set 2 : harper\n",
      "Processing Record 37 of Set 2 : myanaung\n",
      "Processing Record 38 of Set 2 : provideniya\n",
      "Processing Record 39 of Set 2 : airai\n",
      "Processing Record 40 of Set 2 : batagay-alyta\n",
      "Processing Record 41 of Set 2 : carutapera\n",
      "Processing Record 42 of Set 2 : bhan\n",
      "Processing Record 43 of Set 2 : nicoya\n",
      "Processing Record 44 of Set 2 : grajewo\n",
      "Processing Record 45 of Set 2 : puerto ayora\n",
      "Processing Record 46 of Set 2 : port elizabeth\n",
      "Processing Record 47 of Set 2 : kavieng\n",
      "City not found. Skipping...\n",
      "Processing Record 48 of Set 2 : tautira\n",
      "Processing Record 49 of Set 2 : george\n",
      "Processing Record 50 of Set 2 : lere\n",
      "Processing Record 0 of Set 3 : vanavara\n",
      "Processing Record 1 of Set 3 : homer\n",
      "Processing Record 2 of Set 3 : nantucket\n",
      "Processing Record 3 of Set 3 : sorland\n",
      "Processing Record 4 of Set 3 : avarua\n",
      "Processing Record 5 of Set 3 : luderitz\n",
      "Processing Record 6 of Set 3 : upata\n",
      "City not found. Skipping...\n",
      "Processing Record 7 of Set 3 : xining\n",
      "Processing Record 8 of Set 3 : pabrade\n",
      "City not found. Skipping...\n",
      "Processing Record 9 of Set 3 : sant feliu de guixols\n",
      "City not found. Skipping...\n",
      "Processing Record 10 of Set 3 : ambikapur\n",
      "Processing Record 11 of Set 3 : gambo\n",
      "City not found. Skipping...\n",
      "City not found. Skipping...\n",
      "Processing Record 12 of Set 3 : souillac\n",
      "Processing Record 13 of Set 3 : zarubino\n",
      "Processing Record 14 of Set 3 : imbituba\n",
      "Processing Record 15 of Set 3 : callaguip\n",
      "Processing Record 16 of Set 3 : fairbanks\n",
      "Processing Record 17 of Set 3 : chingirlau\n",
      "Processing Record 18 of Set 3 : crowley\n",
      "Processing Record 19 of Set 3 : georgetown\n",
      "Processing Record 20 of Set 3 : qaanaaq\n",
      "Processing Record 21 of Set 3 : goderich\n",
      "Processing Record 22 of Set 3 : namibe\n",
      "Processing Record 23 of Set 3 : dawei\n",
      "Processing Record 24 of Set 3 : tilichiki\n",
      "Processing Record 25 of Set 3 : chicama\n",
      "City not found. Skipping...\n",
      "Processing Record 26 of Set 3 : fort nelson\n",
      "City not found. Skipping...\n",
      "City not found. Skipping...\n",
      "Processing Record 27 of Set 3 : harstad\n",
      "Processing Record 28 of Set 3 : wonthaggi\n",
      "Processing Record 29 of Set 3 : mount gambier\n",
      "Processing Record 30 of Set 3 : narsaq\n",
      "Processing Record 31 of Set 3 : chabahar\n",
      "Processing Record 32 of Set 3 : cilegon\n",
      "Processing Record 33 of Set 3 : hobyo\n",
      "City not found. Skipping...\n",
      "Processing Record 34 of Set 3 : san andres\n",
      "Processing Record 35 of Set 3 : bethel\n",
      "Processing Record 36 of Set 3 : portales\n",
      "City not found. Skipping...\n",
      "Processing Record 37 of Set 3 : gamba\n",
      "Processing Record 38 of Set 3 : arroio grande\n",
      "Processing Record 39 of Set 3 : birnin kebbi\n",
      "Processing Record 40 of Set 3 : fontenay-le-comte\n",
      "City not found. Skipping...\n",
      "Processing Record 41 of Set 3 : raudeberg\n",
      "Processing Record 42 of Set 3 : coroata\n",
      "Processing Record 43 of Set 3 : samarai\n",
      "Processing Record 44 of Set 3 : santa vitoria do palmar\n",
      "Processing Record 45 of Set 3 : ilulissat\n",
      "Processing Record 46 of Set 3 : acapulco\n",
      "Processing Record 47 of Set 3 : carnarvon\n",
      "City not found. Skipping...\n",
      "Processing Record 48 of Set 3 : plettenberg bay\n",
      "Processing Record 49 of Set 3 : longyearbyen\n",
      "Processing Record 50 of Set 3 : husavik\n",
      "Processing Record 0 of Set 4 : cape town\n",
      "Processing Record 1 of Set 4 : cockburn town\n",
      "Processing Record 2 of Set 4 : yangjiang\n",
      "Processing Record 3 of Set 4 : urukh\n",
      "Processing Record 4 of Set 4 : champerico\n",
      "City not found. Skipping...\n",
      "Processing Record 5 of Set 4 : talnakh\n",
      "Processing Record 6 of Set 4 : tiksi\n",
      "City not found. Skipping...\n",
      "Processing Record 7 of Set 4 : manta\n",
      "Processing Record 8 of Set 4 : tandil\n",
      "Processing Record 9 of Set 4 : cidreira\n",
      "Processing Record 10 of Set 4 : palmer\n",
      "Processing Record 11 of Set 4 : la reforma\n",
      "Processing Record 12 of Set 4 : biak\n",
      "Processing Record 13 of Set 4 : krasnoselkup\n",
      "Processing Record 14 of Set 4 : havre-saint-pierre\n",
      "Processing Record 15 of Set 4 : butaritari\n",
      "Processing Record 16 of Set 4 : superior\n",
      "Processing Record 17 of Set 4 : jati\n",
      "Processing Record 18 of Set 4 : boguchany\n",
      "Processing Record 19 of Set 4 : tyulyachi\n",
      "Processing Record 20 of Set 4 : kismayo\n",
      "Processing Record 21 of Set 4 : hithadhoo\n",
      "Processing Record 22 of Set 4 : saint anthony\n",
      "Processing Record 23 of Set 4 : hilo\n",
      "Processing Record 24 of Set 4 : saskylakh\n",
      "Processing Record 25 of Set 4 : koulikoro\n",
      "Processing Record 26 of Set 4 : erice\n",
      "Processing Record 27 of Set 4 : lagoa\n",
      "Processing Record 28 of Set 4 : vardo\n",
      "Processing Record 29 of Set 4 : baijiantan\n",
      "Processing Record 30 of Set 4 : chokurdakh\n",
      "Processing Record 31 of Set 4 : jeannette\n",
      "Processing Record 32 of Set 4 : dryden\n"
     ]
    },
    {
     "name": "stdout",
     "output_type": "stream",
     "text": [
      "Processing Record 33 of Set 4 : bambous virieux\n",
      "Processing Record 34 of Set 4 : arraial do cabo\n",
      "Processing Record 35 of Set 4 : freeport\n",
      "Processing Record 36 of Set 4 : sukhobezvodnoye\n",
      "City not found. Skipping...\n",
      "Processing Record 37 of Set 4 : astana\n",
      "Processing Record 38 of Set 4 : beringovskiy\n",
      "Processing Record 39 of Set 4 : ballitoville\n",
      "Processing Record 40 of Set 4 : serenje\n",
      "Processing Record 41 of Set 4 : constitucion\n",
      "Processing Record 42 of Set 4 : ouadda\n",
      "Processing Record 43 of Set 4 : mar del plata\n",
      "Processing Record 44 of Set 4 : okhotsk\n",
      "Processing Record 45 of Set 4 : chuguyevka\n",
      "Processing Record 46 of Set 4 : deputatskiy\n",
      "Processing Record 47 of Set 4 : mitsamiouli\n",
      "Processing Record 48 of Set 4 : arman\n",
      "Processing Record 49 of Set 4 : bairiki\n",
      "Processing Record 50 of Set 4 : nouakchott\n",
      "Processing Record 0 of Set 5 : dikson\n",
      "Processing Record 1 of Set 5 : great yarmouth\n",
      "Processing Record 2 of Set 5 : komsomolskiy\n",
      "Processing Record 3 of Set 5 : buala\n",
      "Processing Record 4 of Set 5 : bertoua\n",
      "Processing Record 5 of Set 5 : alice springs\n",
      "Processing Record 6 of Set 5 : klaksvik\n",
      "Processing Record 7 of Set 5 : lebu\n",
      "Processing Record 8 of Set 5 : meulaboh\n",
      "Processing Record 9 of Set 5 : cavnic\n",
      "Processing Record 10 of Set 5 : daund\n",
      "Processing Record 11 of Set 5 : makakilo city\n",
      "Processing Record 12 of Set 5 : cayenne\n",
      "Processing Record 13 of Set 5 : blanes\n",
      "Processing Record 14 of Set 5 : cape canaveral\n",
      "Processing Record 15 of Set 5 : uvira\n",
      "Processing Record 16 of Set 5 : camacha\n",
      "Processing Record 17 of Set 5 : korla\n",
      "City not found. Skipping...\n",
      "Processing Record 18 of Set 5 : atar\n",
      "Processing Record 19 of Set 5 : alexandria\n",
      "Processing Record 20 of Set 5 : dingle\n",
      "Processing Record 21 of Set 5 : limulunga\n",
      "Processing Record 22 of Set 5 : miri\n",
      "Processing Record 23 of Set 5 : kaitangata\n",
      "Processing Record 24 of Set 5 : ocos\n",
      "Processing Record 25 of Set 5 : astaneh-ye ashrafiyeh\n",
      "Processing Record 26 of Set 5 : kahului\n",
      "Processing Record 27 of Set 5 : codrington\n",
      "Processing Record 28 of Set 5 : abbeville\n",
      "Processing Record 29 of Set 5 : westport\n",
      "Processing Record 30 of Set 5 : svarstad\n",
      "Processing Record 31 of Set 5 : saquarema\n",
      "Processing Record 32 of Set 5 : khandyga\n",
      "Processing Record 33 of Set 5 : namatanai\n",
      "Processing Record 34 of Set 5 : port blair\n",
      "Processing Record 35 of Set 5 : laredo\n",
      "Processing Record 36 of Set 5 : obihiro\n",
      "Processing Record 37 of Set 5 : broken hill\n",
      "Processing Record 38 of Set 5 : florianopolis\n",
      "Processing Record 39 of Set 5 : baykit\n",
      "Processing Record 40 of Set 5 : kallithea\n",
      "Processing Record 41 of Set 5 : chumikan\n",
      "Processing Record 42 of Set 5 : college\n",
      "Processing Record 43 of Set 5 : la ronge\n",
      "Processing Record 44 of Set 5 : santiago del estero\n",
      "Processing Record 45 of Set 5 : alofi\n",
      "Processing Record 46 of Set 5 : mahebourg\n",
      "Processing Record 47 of Set 5 : mae sot\n",
      "Processing Record 48 of Set 5 : vanimo\n",
      "Processing Record 49 of Set 5 : richards bay\n",
      "Processing Record 50 of Set 5 : takoradi\n",
      "Processing Record 0 of Set 6 : chapais\n",
      "Processing Record 1 of Set 6 : barmer\n",
      "Processing Record 2 of Set 6 : ishigaki\n",
      "Processing Record 3 of Set 6 : visby\n",
      "Processing Record 4 of Set 6 : puerto carreno\n",
      "City not found. Skipping...\n",
      "Processing Record 5 of Set 6 : tairua\n",
      "City not found. Skipping...\n",
      "Processing Record 6 of Set 6 : tashara\n",
      "Processing Record 7 of Set 6 : harindanga\n",
      "Processing Record 8 of Set 6 : paamiut\n",
      "Processing Record 9 of Set 6 : vuktyl\n",
      "Processing Record 10 of Set 6 : pechory\n",
      "Processing Record 11 of Set 6 : iqaluit\n",
      "Processing Record 12 of Set 6 : berlevag\n",
      "Processing Record 13 of Set 6 : gat\n",
      "Processing Record 14 of Set 6 : torbay\n",
      "Processing Record 15 of Set 6 : xinqing\n",
      "Processing Record 16 of Set 6 : touros\n",
      "Processing Record 17 of Set 6 : kondinskoye\n",
      "City not found. Skipping...\n",
      "Processing Record 18 of Set 6 : katsuura\n",
      "Processing Record 19 of Set 6 : elk city\n",
      "Processing Record 20 of Set 6 : lashio\n",
      "Processing Record 21 of Set 6 : east london\n",
      "City not found. Skipping...\n",
      "Processing Record 22 of Set 6 : port hardy\n",
      "City not found. Skipping...\n",
      "Processing Record 23 of Set 6 : nome\n",
      "Processing Record 24 of Set 6 : marawi\n",
      "Processing Record 25 of Set 6 : soavinandriana\n",
      "Processing Record 26 of Set 6 : lumby\n",
      "Processing Record 27 of Set 6 : trelew\n",
      "Processing Record 28 of Set 6 : canchungo\n",
      "Processing Record 29 of Set 6 : nanortalik\n",
      "Processing Record 30 of Set 6 : pak chong\n",
      "Processing Record 31 of Set 6 : hasaki\n",
      "Processing Record 32 of Set 6 : portland\n",
      "Processing Record 33 of Set 6 : le port\n",
      "City not found. Skipping...\n",
      "Processing Record 34 of Set 6 : luganville\n",
      "Processing Record 35 of Set 6 : leshukonskoye\n",
      "Processing Record 36 of Set 6 : the valley\n",
      "Processing Record 37 of Set 6 : cehegin\n",
      "Processing Record 38 of Set 6 : bongandanga\n",
      "Processing Record 39 of Set 6 : fria\n",
      "Processing Record 40 of Set 6 : san jeronimo\n",
      "Processing Record 41 of Set 6 : atikokan\n",
      "Processing Record 42 of Set 6 : quelimane\n",
      "Processing Record 43 of Set 6 : taoudenni\n",
      "Processing Record 44 of Set 6 : agalatovo\n",
      "City not found. Skipping...\n",
      "Processing Record 45 of Set 6 : hammerfest\n",
      "Processing Record 46 of Set 6 : port augusta\n",
      "Processing Record 47 of Set 6 : maragogi\n",
      "Processing Record 48 of Set 6 : maneadero\n",
      "Processing Record 49 of Set 6 : segovia\n",
      "Processing Record 50 of Set 6 : wenchi\n",
      "Processing Record 0 of Set 7 : cherskiy\n",
      "Processing Record 1 of Set 7 : linjiang\n",
      "Processing Record 2 of Set 7 : ewa beach\n",
      "Processing Record 3 of Set 7 : lahaina\n",
      "Processing Record 4 of Set 7 : noumea\n",
      "Processing Record 5 of Set 7 : ajaccio\n",
      "City not found. Skipping...\n",
      "Processing Record 6 of Set 7 : praya\n",
      "Processing Record 7 of Set 7 : new castle\n",
      "Processing Record 8 of Set 7 : kita\n",
      "Processing Record 9 of Set 7 : lavrentiya\n",
      "Processing Record 10 of Set 7 : omsukchan\n",
      "Processing Record 11 of Set 7 : la macarena\n",
      "Processing Record 12 of Set 7 : kozmodemyansk\n",
      "City not found. Skipping...\n",
      "Processing Record 13 of Set 7 : havelock\n",
      "Processing Record 14 of Set 7 : itarema\n",
      "Processing Record 15 of Set 7 : cabo san lucas\n",
      "City not found. Skipping...\n",
      "Processing Record 16 of Set 7 : marystown\n",
      "Processing Record 17 of Set 7 : nuuk\n",
      "Processing Record 18 of Set 7 : russell\n",
      "Processing Record 19 of Set 7 : puranpur\n",
      "City not found. Skipping...\n",
      "City not found. Skipping...\n",
      "Processing Record 20 of Set 7 : vila velha\n",
      "Processing Record 21 of Set 7 : dhemaji\n",
      "Processing Record 22 of Set 7 : kropotkin\n",
      "Processing Record 23 of Set 7 : boshnyakovo\n",
      "Processing Record 24 of Set 7 : geraldton\n",
      "Processing Record 25 of Set 7 : domoni\n",
      "Processing Record 26 of Set 7 : clyde river\n",
      "Processing Record 27 of Set 7 : pesochnoye\n",
      "Processing Record 28 of Set 7 : north bend\n",
      "Processing Record 29 of Set 7 : north platte\n",
      "Processing Record 30 of Set 7 : coquimbo\n",
      "Processing Record 31 of Set 7 : lata\n",
      "Processing Record 32 of Set 7 : umm lajj\n",
      "Processing Record 33 of Set 7 : heiligenhafen\n",
      "Processing Record 34 of Set 7 : sao jose da coroa grande\n",
      "Processing Record 35 of Set 7 : ayr\n",
      "Processing Record 36 of Set 7 : nador\n",
      "Processing Record 37 of Set 7 : cabuyaro\n",
      "Processing Record 38 of Set 7 : pryazha\n",
      "Processing Record 39 of Set 7 : mandurah\n",
      "Processing Record 40 of Set 7 : emerald\n",
      "Processing Record 41 of Set 7 : ponta do sol\n",
      "Processing Record 42 of Set 7 : sur\n",
      "Processing Record 43 of Set 7 : noshiro\n",
      "Processing Record 44 of Set 7 : sitka\n",
      "Processing Record 45 of Set 7 : zhigalovo\n",
      "Processing Record 46 of Set 7 : banjar\n",
      "Processing Record 47 of Set 7 : madimba\n",
      "Processing Record 48 of Set 7 : sobolevo\n",
      "Processing Record 49 of Set 7 : great bend\n",
      "Processing Record 50 of Set 7 : malanje\n",
      "Processing Record 0 of Set 8 : gazojak\n",
      "Processing Record 1 of Set 8 : seoni malwa\n",
      "Processing Record 2 of Set 8 : ahuimanu\n",
      "Processing Record 3 of Set 8 : zhigansk\n",
      "Processing Record 4 of Set 8 : hofn\n",
      "Processing Record 5 of Set 8 : victoria\n",
      "Processing Record 6 of Set 8 : monroe\n",
      "Processing Record 7 of Set 8 : nsunga\n",
      "Processing Record 8 of Set 8 : flinders\n",
      "Processing Record 9 of Set 8 : pangody\n",
      "Processing Record 10 of Set 8 : pocao de pedras\n",
      "Processing Record 11 of Set 8 : aykhal\n",
      "Processing Record 12 of Set 8 : leningradskiy\n",
      "City not found. Skipping...\n",
      "Processing Record 13 of Set 8 : boueni\n",
      "Processing Record 14 of Set 8 : margate\n",
      "Processing Record 15 of Set 8 : san ramon\n",
      "Processing Record 16 of Set 8 : ballina\n",
      "Processing Record 17 of Set 8 : urumqi\n"
     ]
    },
    {
     "name": "stdout",
     "output_type": "stream",
     "text": [
      "Processing Record 18 of Set 8 : maumere\n",
      "Processing Record 19 of Set 8 : peace river\n",
      "Processing Record 20 of Set 8 : karratha\n",
      "Processing Record 21 of Set 8 : erdenet\n",
      "Processing Record 22 of Set 8 : trairi\n",
      "City not found. Skipping...\n",
      "Processing Record 23 of Set 8 : bonfim\n",
      "Processing Record 24 of Set 8 : balkanabat\n",
      "Processing Record 25 of Set 8 : leo\n",
      "Processing Record 26 of Set 8 : saint-augustin\n",
      "Processing Record 27 of Set 8 : corinto\n",
      "Processing Record 28 of Set 8 : isla mujeres\n",
      "Processing Record 29 of Set 8 : novyy urengoy\n",
      "Processing Record 30 of Set 8 : nampa\n",
      "Processing Record 31 of Set 8 : kabanjahe\n",
      "Processing Record 32 of Set 8 : yumen\n",
      "Processing Record 33 of Set 8 : morehead\n",
      "City not found. Skipping...\n",
      "Processing Record 34 of Set 8 : waingapu\n",
      "Processing Record 35 of Set 8 : banda aceh\n",
      "Processing Record 36 of Set 8 : puerto escondido\n",
      "Processing Record 37 of Set 8 : ribas do rio pardo\n",
      "Processing Record 38 of Set 8 : revyakino\n",
      "Processing Record 39 of Set 8 : esperance\n",
      "Processing Record 40 of Set 8 : providencia\n",
      "Processing Record 41 of Set 8 : dhidhdhoo\n",
      "Processing Record 42 of Set 8 : riyadh\n",
      "Processing Record 43 of Set 8 : bereznik\n",
      "Processing Record 44 of Set 8 : san pedro de ycuamandiyu\n",
      "Processing Record 45 of Set 8 : oranjestad\n",
      "Processing Record 46 of Set 8 : tura\n",
      "Processing Record 47 of Set 8 : road town\n",
      "Processing Record 48 of Set 8 : san cristobal\n",
      "Processing Record 49 of Set 8 : sambava\n",
      "Processing Record 50 of Set 8 : mount pleasant\n",
      "Processing Record 0 of Set 9 : treinta y tres\n",
      "Processing Record 1 of Set 9 : goulburn\n",
      "Processing Record 2 of Set 9 : smoky lake\n",
      "Processing Record 3 of Set 9 : salinopolis\n",
      "Processing Record 4 of Set 9 : nikolskoye\n",
      "Processing Record 5 of Set 9 : salalah\n",
      "Processing Record 6 of Set 9 : san quintin\n",
      "Processing Record 7 of Set 9 : buchanan\n",
      "Processing Record 8 of Set 9 : condega\n",
      "Processing Record 9 of Set 9 : dindori\n",
      "Processing Record 10 of Set 9 : liverpool\n",
      "Processing Record 11 of Set 9 : rawson\n",
      "Processing Record 12 of Set 9 : nagod\n",
      "Processing Record 13 of Set 9 : bukachacha\n",
      "Processing Record 14 of Set 9 : kirakira\n",
      "Processing Record 15 of Set 9 : chitaga\n",
      "Processing Record 16 of Set 9 : huercal-overa\n",
      "Processing Record 17 of Set 9 : zalantun\n",
      "Processing Record 18 of Set 9 : pantai remis\n",
      "Processing Record 19 of Set 9 : pechora\n",
      "Processing Record 20 of Set 9 : roald\n",
      "Processing Record 21 of Set 9 : imeni babushkina\n",
      "Processing Record 22 of Set 9 : houma\n",
      "Processing Record 23 of Set 9 : port hedland\n",
      "Processing Record 24 of Set 9 : portmore\n",
      "Processing Record 25 of Set 9 : hualmay\n",
      "Processing Record 26 of Set 9 : cardston\n",
      "City not found. Skipping...\n",
      "Processing Record 27 of Set 9 : kavaratti\n",
      "Processing Record 28 of Set 9 : oranjemund\n",
      "Processing Record 29 of Set 9 : shu\n",
      "Processing Record 30 of Set 9 : suntar\n",
      "Processing Record 31 of Set 9 : moissala\n",
      "Processing Record 32 of Set 9 : sioux lookout\n",
      "Processing Record 33 of Set 9 : muisne\n",
      "Processing Record 34 of Set 9 : namie\n",
      "Processing Record 35 of Set 9 : norman wells\n",
      "Processing Record 36 of Set 9 : eyl\n",
      "Processing Record 37 of Set 9 : sao joao da barra\n",
      "City not found. Skipping...\n",
      "City not found. Skipping...\n",
      "Processing Record 38 of Set 9 : auchi\n",
      "Processing Record 39 of Set 9 : garmsar\n",
      "Processing Record 40 of Set 9 : byron bay\n",
      "Processing Record 41 of Set 9 : te anau\n",
      "Processing Record 42 of Set 9 : pisco\n",
      "Processing Record 43 of Set 9 : quatre cocos\n",
      "Processing Record 44 of Set 9 : bilma\n",
      "Processing Record 45 of Set 9 : high level\n",
      "Processing Record 46 of Set 9 : enshi\n",
      "Processing Record 47 of Set 9 : grand-santi\n",
      "Processing Record 48 of Set 9 : blyth\n",
      "Processing Record 49 of Set 9 : bloemfontein\n",
      "Processing Record 50 of Set 9 : belyy yar\n",
      "Processing Record 0 of Set 10 : guerrero negro\n",
      "Processing Record 1 of Set 10 : lompoc\n",
      "Processing Record 2 of Set 10 : coahuayana\n",
      "Processing Record 3 of Set 10 : la tuque\n",
      "Processing Record 4 of Set 10 : killybegs\n",
      "Processing Record 5 of Set 10 : luzhou\n",
      "Processing Record 6 of Set 10 : gao\n",
      "Processing Record 7 of Set 10 : la paz\n",
      "Processing Record 8 of Set 10 : sturgeon falls\n",
      "Processing Record 9 of Set 10 : saint-georges\n",
      "Processing Record 10 of Set 10 : omboue\n",
      "Processing Record 11 of Set 10 : rusape\n",
      "City not found. Skipping...\n",
      "Processing Record 12 of Set 10 : manokwari\n",
      "City not found. Skipping...\n",
      "Processing Record 13 of Set 10 : todos santos\n",
      "Processing Record 14 of Set 10 : nelson bay\n",
      "Processing Record 15 of Set 10 : amurzet\n",
      "Processing Record 16 of Set 10 : beloha\n",
      "Processing Record 17 of Set 10 : vilyuysk\n",
      "Processing Record 18 of Set 10 : moose jaw\n",
      "Processing Record 19 of Set 10 : nemuro\n",
      "Processing Record 20 of Set 10 : joinville\n",
      "Processing Record 21 of Set 10 : saint-pierre\n",
      "Processing Record 22 of Set 10 : hami\n",
      "Processing Record 23 of Set 10 : chiredzi\n",
      "Processing Record 24 of Set 10 : chara\n",
      "Processing Record 25 of Set 10 : manaure\n",
      "Processing Record 26 of Set 10 : salinas\n",
      "Processing Record 27 of Set 10 : zeya\n",
      "Processing Record 28 of Set 10 : tawang\n",
      "Processing Record 29 of Set 10 : labuhan\n",
      "Processing Record 30 of Set 10 : axim\n",
      "Processing Record 31 of Set 10 : los llanos de aridane\n",
      "Processing Record 32 of Set 10 : port arthur\n",
      "Processing Record 33 of Set 10 : sistranda\n",
      "Processing Record 34 of Set 10 : masvingo\n",
      "Processing Record 35 of Set 10 : sao joaquim\n",
      "Processing Record 36 of Set 10 : andros town\n",
      "Processing Record 37 of Set 10 : comodoro rivadavia\n",
      "Processing Record 38 of Set 10 : culiacancito\n",
      "Processing Record 39 of Set 10 : garissa\n",
      "Processing Record 40 of Set 10 : taltal\n",
      "Processing Record 41 of Set 10 : bilibino\n",
      "Processing Record 42 of Set 10 : jumla\n",
      "Processing Record 43 of Set 10 : jalu\n",
      "Processing Record 44 of Set 10 : mitu\n",
      "City not found. Skipping...\n",
      "Processing Record 45 of Set 10 : vallenar\n",
      "Processing Record 46 of Set 10 : selestat\n",
      "Processing Record 47 of Set 10 : japura\n",
      "Processing Record 48 of Set 10 : sena madureira\n",
      "Processing Record 49 of Set 10 : severodvinsk\n",
      "Processing Record 50 of Set 10 : necocli\n",
      "Processing Record 0 of Set 11 : mildura\n",
      "Processing Record 1 of Set 11 : luocheng\n",
      "Processing Record 2 of Set 11 : praia da vitoria\n",
      "Processing Record 3 of Set 11 : walvis bay\n",
      "Processing Record 4 of Set 11 : winona\n",
      "Processing Record 5 of Set 11 : qaqortoq\n",
      "Processing Record 6 of Set 11 : bundaberg\n",
      "Processing Record 7 of Set 11 : miacatlan\n",
      "Processing Record 8 of Set 11 : darnah\n",
      "Processing Record 9 of Set 11 : kamaishi\n",
      "Processing Record 10 of Set 11 : fountain hills\n",
      "Processing Record 11 of Set 11 : san vicente\n",
      "City not found. Skipping...\n",
      "Processing Record 12 of Set 11 : simao\n",
      "Processing Record 13 of Set 11 : lakhdenpokhya\n",
      "Processing Record 14 of Set 11 : eenhana\n",
      "Processing Record 15 of Set 11 : moba\n",
      "Processing Record 16 of Set 11 : wageningen\n",
      "Processing Record 17 of Set 11 : chengde\n",
      "Processing Record 18 of Set 11 : kutum\n",
      "Processing Record 19 of Set 11 : bathsheba\n",
      "Processing Record 20 of Set 11 : renqiu\n",
      "Processing Record 21 of Set 11 : raton\n",
      "Processing Record 22 of Set 11 : svetlaya\n",
      "Processing Record 23 of Set 11 : linqiong\n",
      "Processing Record 24 of Set 11 : odweyne\n",
      "Processing Record 25 of Set 11 : tall kayf\n",
      "Processing Record 26 of Set 11 : elat\n",
      "Processing Record 27 of Set 11 : vavoua\n",
      "Processing Record 28 of Set 11 : morro bay\n",
      "Processing Record 29 of Set 11 : lubao\n",
      "Processing Record 30 of Set 11 : batemans bay\n",
      "Processing Record 31 of Set 11 : gloversville\n",
      "Processing Record 32 of Set 11 : marzuq\n",
      "Processing Record 33 of Set 11 : san patricio\n",
      "Processing Record 34 of Set 11 : nang rong\n",
      "City not found. Skipping...\n",
      "Processing Record 35 of Set 11 : toora-khem\n",
      "Processing Record 36 of Set 11 : finschhafen\n",
      "Processing Record 37 of Set 11 : tiarei\n",
      "Processing Record 38 of Set 11 : lyskovo\n",
      "Processing Record 39 of Set 11 : renala khurd\n",
      "Processing Record 40 of Set 11 : mizunami\n",
      "Processing Record 41 of Set 11 : saint-francois\n",
      "Processing Record 42 of Set 11 : kushiro\n",
      "Processing Record 43 of Set 11 : zhangjiakou\n",
      "Processing Record 44 of Set 11 : micheweni\n",
      "Processing Record 45 of Set 11 : mayo\n",
      "-----------------------------\n",
      "Data Retrieval Complete\n",
      "-----------------------------\n"
     ]
    }
   ],
   "source": [
    "#set up lists to hold the response information\n",
    "country = []\n",
    "cityname = []\n",
    "cloudiness = []\n",
    "date = []\n",
    "humidity = []\n",
    "max_temp = []\n",
    "lat = []\n",
    "lng = []\n",
    "wind_speed = []\n",
    "count_city = 1\n",
    "set_one = 1\n",
    "\n",
    "for index, city in enumerate(cities, start = 1):\n",
    "    try:\n",
    "        response = requests.get(query + city).json()\n",
    "        cityname.append(response[\"name\"])\n",
    "        cloudiness.append(response[\"clouds\"][\"all\"])\n",
    "        country.append(response[\"sys\"][\"country\"])\n",
    "        date.append(response[\"dt\"])\n",
    "        humidity.append(response[\"main\"][\"humidity\"])\n",
    "        lat.append(response[\"coord\"][\"lat\"])\n",
    "        lng.append(response[\"coord\"][\"lon\"])\n",
    "        max_temp.append(response['main']['temp_max'])\n",
    "        wind_speed.append(response[\"wind\"][\"speed\"])\n",
    "        if count_city > 49:\n",
    "            count_city = 0\n",
    "            set_one = set_one + 1\n",
    "    \n",
    "        else:\n",
    "            count_city = count_city + 1\n",
    "            \n",
    "        print(f\"Processing Record {count_city} of Set {set_one} : {city}\") \n",
    "  \n",
    "    except(KeyError, IndexError):\n",
    "        print(\"City not found. Skipping...\")\n",
    "\n",
    "print(\"-----------------------------\")\n",
    "print(\"Data Retrieval Complete\")\n",
    "print(\"-----------------------------\")\n",
    "        \n",
    "        \n"
   ]
  },
  {
   "cell_type": "markdown",
   "metadata": {},
   "source": [
    "### Convert Raw Data to DataFrame\n",
    "* Export the city data into a .csv.\n",
    "* Display the DataFrame"
   ]
  },
  {
   "cell_type": "code",
   "execution_count": 6,
   "metadata": {},
   "outputs": [],
   "source": [
    "weather_city_df = pd.DataFrame({ \n",
    "                \"City\" : cityname,\n",
    "                \"Lat\" : lat,\n",
    "                \"Lng\" : lng,\n",
    "                \"Max Temp\" : max_temp,\n",
    "                \"Humidity\" : humidity,\n",
    "                \"Cloudiness\" : cloudiness,\n",
    "                \"Wind Speed\" : wind_speed,\n",
    "                \"Country\" : country,\n",
    "                \"Date\" : date\n",
    "})"
   ]
  },
  {
   "cell_type": "code",
   "execution_count": 7,
   "metadata": {},
   "outputs": [
    {
     "data": {
      "text/html": [
       "<div>\n",
       "<style scoped>\n",
       "    .dataframe tbody tr th:only-of-type {\n",
       "        vertical-align: middle;\n",
       "    }\n",
       "\n",
       "    .dataframe tbody tr th {\n",
       "        vertical-align: top;\n",
       "    }\n",
       "\n",
       "    .dataframe thead th {\n",
       "        text-align: right;\n",
       "    }\n",
       "</style>\n",
       "<table border=\"1\" class=\"dataframe\">\n",
       "  <thead>\n",
       "    <tr style=\"text-align: right;\">\n",
       "      <th></th>\n",
       "      <th>City</th>\n",
       "      <th>Lat</th>\n",
       "      <th>Lng</th>\n",
       "      <th>Max Temp</th>\n",
       "      <th>Humidity</th>\n",
       "      <th>Cloudiness</th>\n",
       "      <th>Wind Speed</th>\n",
       "      <th>Country</th>\n",
       "      <th>Date</th>\n",
       "    </tr>\n",
       "  </thead>\n",
       "  <tbody>\n",
       "    <tr>\n",
       "      <th>0</th>\n",
       "      <td>Ahipara</td>\n",
       "      <td>-35.1667</td>\n",
       "      <td>173.1667</td>\n",
       "      <td>65.35</td>\n",
       "      <td>72</td>\n",
       "      <td>96</td>\n",
       "      <td>11.95</td>\n",
       "      <td>NZ</td>\n",
       "      <td>1650839488</td>\n",
       "    </tr>\n",
       "    <tr>\n",
       "      <th>1</th>\n",
       "      <td>Saint-Philippe</td>\n",
       "      <td>-21.3585</td>\n",
       "      <td>55.7679</td>\n",
       "      <td>72.99</td>\n",
       "      <td>79</td>\n",
       "      <td>90</td>\n",
       "      <td>14.03</td>\n",
       "      <td>RE</td>\n",
       "      <td>1650839489</td>\n",
       "    </tr>\n",
       "    <tr>\n",
       "      <th>2</th>\n",
       "      <td>Jamestown</td>\n",
       "      <td>42.0970</td>\n",
       "      <td>-79.2353</td>\n",
       "      <td>80.24</td>\n",
       "      <td>31</td>\n",
       "      <td>0</td>\n",
       "      <td>12.66</td>\n",
       "      <td>US</td>\n",
       "      <td>1650839489</td>\n",
       "    </tr>\n",
       "    <tr>\n",
       "      <th>3</th>\n",
       "      <td>Rikitea</td>\n",
       "      <td>-23.1203</td>\n",
       "      <td>-134.9692</td>\n",
       "      <td>73.02</td>\n",
       "      <td>89</td>\n",
       "      <td>100</td>\n",
       "      <td>16.44</td>\n",
       "      <td>PF</td>\n",
       "      <td>1650839490</td>\n",
       "    </tr>\n",
       "    <tr>\n",
       "      <th>4</th>\n",
       "      <td>Udachny</td>\n",
       "      <td>66.4167</td>\n",
       "      <td>112.4000</td>\n",
       "      <td>10.17</td>\n",
       "      <td>93</td>\n",
       "      <td>58</td>\n",
       "      <td>2.48</td>\n",
       "      <td>RU</td>\n",
       "      <td>1650839490</td>\n",
       "    </tr>\n",
       "    <tr>\n",
       "      <th>...</th>\n",
       "      <td>...</td>\n",
       "      <td>...</td>\n",
       "      <td>...</td>\n",
       "      <td>...</td>\n",
       "      <td>...</td>\n",
       "      <td>...</td>\n",
       "      <td>...</td>\n",
       "      <td>...</td>\n",
       "      <td>...</td>\n",
       "    </tr>\n",
       "    <tr>\n",
       "      <th>549</th>\n",
       "      <td>Saint-François</td>\n",
       "      <td>46.4154</td>\n",
       "      <td>3.9054</td>\n",
       "      <td>53.04</td>\n",
       "      <td>87</td>\n",
       "      <td>100</td>\n",
       "      <td>3.44</td>\n",
       "      <td>FR</td>\n",
       "      <td>1650839660</td>\n",
       "    </tr>\n",
       "    <tr>\n",
       "      <th>550</th>\n",
       "      <td>Kushiro</td>\n",
       "      <td>42.9750</td>\n",
       "      <td>144.3747</td>\n",
       "      <td>50.95</td>\n",
       "      <td>62</td>\n",
       "      <td>0</td>\n",
       "      <td>4.61</td>\n",
       "      <td>JP</td>\n",
       "      <td>1650839660</td>\n",
       "    </tr>\n",
       "    <tr>\n",
       "      <th>551</th>\n",
       "      <td>Zhangjiakou</td>\n",
       "      <td>40.8100</td>\n",
       "      <td>114.8794</td>\n",
       "      <td>60.94</td>\n",
       "      <td>41</td>\n",
       "      <td>26</td>\n",
       "      <td>0.89</td>\n",
       "      <td>CN</td>\n",
       "      <td>1650839661</td>\n",
       "    </tr>\n",
       "    <tr>\n",
       "      <th>552</th>\n",
       "      <td>Micheweni</td>\n",
       "      <td>-4.9667</td>\n",
       "      <td>39.8333</td>\n",
       "      <td>78.69</td>\n",
       "      <td>85</td>\n",
       "      <td>92</td>\n",
       "      <td>5.10</td>\n",
       "      <td>TZ</td>\n",
       "      <td>1650839661</td>\n",
       "    </tr>\n",
       "    <tr>\n",
       "      <th>553</th>\n",
       "      <td>Mayo</td>\n",
       "      <td>38.8876</td>\n",
       "      <td>-76.5119</td>\n",
       "      <td>77.18</td>\n",
       "      <td>60</td>\n",
       "      <td>0</td>\n",
       "      <td>18.01</td>\n",
       "      <td>US</td>\n",
       "      <td>1650839661</td>\n",
       "    </tr>\n",
       "  </tbody>\n",
       "</table>\n",
       "<p>554 rows × 9 columns</p>\n",
       "</div>"
      ],
      "text/plain": [
       "               City      Lat       Lng  Max Temp  Humidity  Cloudiness  \\\n",
       "0           Ahipara -35.1667  173.1667     65.35        72          96   \n",
       "1    Saint-Philippe -21.3585   55.7679     72.99        79          90   \n",
       "2         Jamestown  42.0970  -79.2353     80.24        31           0   \n",
       "3           Rikitea -23.1203 -134.9692     73.02        89         100   \n",
       "4           Udachny  66.4167  112.4000     10.17        93          58   \n",
       "..              ...      ...       ...       ...       ...         ...   \n",
       "549  Saint-François  46.4154    3.9054     53.04        87         100   \n",
       "550         Kushiro  42.9750  144.3747     50.95        62           0   \n",
       "551     Zhangjiakou  40.8100  114.8794     60.94        41          26   \n",
       "552       Micheweni  -4.9667   39.8333     78.69        85          92   \n",
       "553            Mayo  38.8876  -76.5119     77.18        60           0   \n",
       "\n",
       "     Wind Speed Country        Date  \n",
       "0         11.95      NZ  1650839488  \n",
       "1         14.03      RE  1650839489  \n",
       "2         12.66      US  1650839489  \n",
       "3         16.44      PF  1650839490  \n",
       "4          2.48      RU  1650839490  \n",
       "..          ...     ...         ...  \n",
       "549        3.44      FR  1650839660  \n",
       "550        4.61      JP  1650839660  \n",
       "551        0.89      CN  1650839661  \n",
       "552        5.10      TZ  1650839661  \n",
       "553       18.01      US  1650839661  \n",
       "\n",
       "[554 rows x 9 columns]"
      ]
     },
     "execution_count": 7,
     "metadata": {},
     "output_type": "execute_result"
    }
   ],
   "source": [
    "weather_city_df"
   ]
  },
  {
   "cell_type": "code",
   "execution_count": 8,
   "metadata": {},
   "outputs": [],
   "source": [
    "#save csv output\n",
    "weather_city_df.to_csv(\"weather_data_cities.csv\")"
   ]
  },
  {
   "cell_type": "markdown",
   "metadata": {},
   "source": [
    "## Inspect the data and remove the cities where the humidity > 100%.\n",
    "----\n",
    "Skip this step if there are no cities that have humidity > 100%. "
   ]
  },
  {
   "cell_type": "code",
   "execution_count": 9,
   "metadata": {},
   "outputs": [
    {
     "data": {
      "text/html": [
       "<div>\n",
       "<style scoped>\n",
       "    .dataframe tbody tr th:only-of-type {\n",
       "        vertical-align: middle;\n",
       "    }\n",
       "\n",
       "    .dataframe tbody tr th {\n",
       "        vertical-align: top;\n",
       "    }\n",
       "\n",
       "    .dataframe thead th {\n",
       "        text-align: right;\n",
       "    }\n",
       "</style>\n",
       "<table border=\"1\" class=\"dataframe\">\n",
       "  <thead>\n",
       "    <tr style=\"text-align: right;\">\n",
       "      <th></th>\n",
       "      <th>Lat</th>\n",
       "      <th>Lng</th>\n",
       "      <th>Max Temp</th>\n",
       "      <th>Humidity</th>\n",
       "      <th>Cloudiness</th>\n",
       "      <th>Wind Speed</th>\n",
       "      <th>Date</th>\n",
       "    </tr>\n",
       "  </thead>\n",
       "  <tbody>\n",
       "    <tr>\n",
       "      <th>count</th>\n",
       "      <td>554.000000</td>\n",
       "      <td>554.000000</td>\n",
       "      <td>554.000000</td>\n",
       "      <td>554.000000</td>\n",
       "      <td>554.000000</td>\n",
       "      <td>554.000000</td>\n",
       "      <td>5.540000e+02</td>\n",
       "    </tr>\n",
       "    <tr>\n",
       "      <th>mean</th>\n",
       "      <td>20.408423</td>\n",
       "      <td>12.601244</td>\n",
       "      <td>61.092798</td>\n",
       "      <td>71.079422</td>\n",
       "      <td>56.770758</td>\n",
       "      <td>8.092274</td>\n",
       "      <td>1.650840e+09</td>\n",
       "    </tr>\n",
       "    <tr>\n",
       "      <th>std</th>\n",
       "      <td>33.121971</td>\n",
       "      <td>90.909402</td>\n",
       "      <td>20.677359</td>\n",
       "      <td>21.681423</td>\n",
       "      <td>38.431402</td>\n",
       "      <td>5.291402</td>\n",
       "      <td>8.333024e+01</td>\n",
       "    </tr>\n",
       "    <tr>\n",
       "      <th>min</th>\n",
       "      <td>-54.800000</td>\n",
       "      <td>-175.200000</td>\n",
       "      <td>-6.140000</td>\n",
       "      <td>1.000000</td>\n",
       "      <td>0.000000</td>\n",
       "      <td>0.000000</td>\n",
       "      <td>1.650839e+09</td>\n",
       "    </tr>\n",
       "    <tr>\n",
       "      <th>25%</th>\n",
       "      <td>-5.812775</td>\n",
       "      <td>-69.186625</td>\n",
       "      <td>48.412500</td>\n",
       "      <td>61.000000</td>\n",
       "      <td>20.000000</td>\n",
       "      <td>4.097500</td>\n",
       "      <td>1.650840e+09</td>\n",
       "    </tr>\n",
       "    <tr>\n",
       "      <th>50%</th>\n",
       "      <td>23.078150</td>\n",
       "      <td>16.387150</td>\n",
       "      <td>65.305000</td>\n",
       "      <td>77.000000</td>\n",
       "      <td>70.000000</td>\n",
       "      <td>6.910000</td>\n",
       "      <td>1.650840e+09</td>\n",
       "    </tr>\n",
       "    <tr>\n",
       "      <th>75%</th>\n",
       "      <td>48.174975</td>\n",
       "      <td>94.299975</td>\n",
       "      <td>78.437500</td>\n",
       "      <td>87.000000</td>\n",
       "      <td>96.000000</td>\n",
       "      <td>11.412500</td>\n",
       "      <td>1.650840e+09</td>\n",
       "    </tr>\n",
       "    <tr>\n",
       "      <th>max</th>\n",
       "      <td>78.218600</td>\n",
       "      <td>179.316700</td>\n",
       "      <td>95.290000</td>\n",
       "      <td>100.000000</td>\n",
       "      <td>100.000000</td>\n",
       "      <td>31.540000</td>\n",
       "      <td>1.650840e+09</td>\n",
       "    </tr>\n",
       "  </tbody>\n",
       "</table>\n",
       "</div>"
      ],
      "text/plain": [
       "              Lat         Lng    Max Temp    Humidity  Cloudiness  Wind Speed  \\\n",
       "count  554.000000  554.000000  554.000000  554.000000  554.000000  554.000000   \n",
       "mean    20.408423   12.601244   61.092798   71.079422   56.770758    8.092274   \n",
       "std     33.121971   90.909402   20.677359   21.681423   38.431402    5.291402   \n",
       "min    -54.800000 -175.200000   -6.140000    1.000000    0.000000    0.000000   \n",
       "25%     -5.812775  -69.186625   48.412500   61.000000   20.000000    4.097500   \n",
       "50%     23.078150   16.387150   65.305000   77.000000   70.000000    6.910000   \n",
       "75%     48.174975   94.299975   78.437500   87.000000   96.000000   11.412500   \n",
       "max     78.218600  179.316700   95.290000  100.000000  100.000000   31.540000   \n",
       "\n",
       "               Date  \n",
       "count  5.540000e+02  \n",
       "mean   1.650840e+09  \n",
       "std    8.333024e+01  \n",
       "min    1.650839e+09  \n",
       "25%    1.650840e+09  \n",
       "50%    1.650840e+09  \n",
       "75%    1.650840e+09  \n",
       "max    1.650840e+09  "
      ]
     },
     "execution_count": 9,
     "metadata": {},
     "output_type": "execute_result"
    }
   ],
   "source": [
    "weather_city_df.describe()"
   ]
  },
  {
   "cell_type": "markdown",
   "metadata": {},
   "source": [
    "## Plotting the Data\n",
    "* Use proper labeling of the plots using plot titles (including date of analysis) and axes labels.\n",
    "* Save the plotted figures as .pngs in the output_data folder\n",
    "* Below are examples of what you should get but your results will be different."
   ]
  },
  {
   "cell_type": "markdown",
   "metadata": {},
   "source": [
    "## Latitude vs. Temperature Plot"
   ]
  },
  {
   "cell_type": "code",
   "execution_count": 10,
   "metadata": {
    "scrolled": true
   },
   "outputs": [
    {
     "data": {
      "image/png": "[encoded data removed]",
      "text/plain": [
       "<Figure size 432x288 with 1 Axes>"
      ]
     },
     "metadata": {
      "needs_background": "light"
     },
     "output_type": "display_data"
    }
   ],
   "source": [
    "# Create Lat vs. Temp scatter plot\n",
    "plt.scatter(weather_city_df[\"Lat\"], weather_city_df[\"Max Temp\"])\n",
    "plt.title(\"City Latitude vs. Max Temperature\")\n",
    "plt.xlabel(\"Latitude\")\n",
    "plt.ylabel(\"Max Temperature (F)\")\n",
    "plt.grid()\n",
    "\n",
    "# Save plot as png\n",
    "plt.savefig(\"lat vs temp plot.png\")"
   ]
  },
  {
   "cell_type": "markdown",
   "metadata": {},
   "source": [
    "## Latitude vs. Humidity Plot"
   ]
  },
  {
   "cell_type": "code",
   "execution_count": 11,
   "metadata": {},
   "outputs": [
    {
     "data": {
      "image/png": "[encoded data removed]",
      "text/plain": [
       "<Figure size 432x288 with 1 Axes>"
      ]
     },
     "metadata": {
      "needs_background": "light"
     },
     "output_type": "display_data"
    }
   ],
   "source": [
    "#Create Lat vs. Humidity Scatter Plot\n",
    "plt.scatter(weather_city_df[\"Lat\"], weather_city_df[\"Humidity\"])\n",
    "plt.title(\"City Latitude vs. Humidity\")\n",
    "plt.xlabel(\"Latitude\")\n",
    "plt.ylabel(\"Humidity (%)\")\n",
    "plt.grid()\n",
    "\n",
    "# Save plot as png\n",
    "plt.savefig(\"lat vs humidity plot.png\")"
   ]
  },
  {
   "cell_type": "markdown",
   "metadata": {},
   "source": [
    "## Latitude vs. Cloudiness Plot"
   ]
  },
  {
   "cell_type": "code",
   "execution_count": 12,
   "metadata": {},
   "outputs": [
    {
     "data": {
      "image/png": "[encoded data removed]",
      "text/plain": [
       "<Figure size 432x288 with 1 Axes>"
      ]
     },
     "metadata": {
      "needs_background": "light"
     },
     "output_type": "display_data"
    }
   ],
   "source": [
    "#Create Lat vs. Cloudiness Scatter Plot\n",
    "plt.scatter(weather_city_df[\"Lat\"], weather_city_df[\"Cloudiness\"])\n",
    "plt.title(\"City Latitude vs. Cloudiness\")\n",
    "plt.xlabel(\"Latitude\")\n",
    "plt.ylabel(\"Cloudiness (%)\")\n",
    "plt.grid()\n",
    "\n",
    "# Save plot as png\n",
    "plt.savefig(\"lat vs cloud plot.png\")"
   ]
  },
  {
   "cell_type": "markdown",
   "metadata": {},
   "source": [
    "## Latitude vs. Wind Speed Plot"
   ]
  },
  {
   "cell_type": "code",
   "execution_count": 13,
   "metadata": {},
   "outputs": [
    {
     "data": {
      "image/png": "[encoded data removed]",
      "text/plain": [
       "<Figure size 432x288 with 1 Axes>"
      ]
     },
     "metadata": {
      "needs_background": "light"
     },
     "output_type": "display_data"
    }
   ],
   "source": [
    "#Create Lat vs. Cloudiness Scatter Plot\n",
    "plt.scatter(weather_city_df[\"Lat\"], weather_city_df[\"Wind Speed\"])\n",
    "plt.title(\"City Latitude vs. Wind Speed\")\n",
    "plt.xlabel(\"Latitude\")\n",
    "plt.ylabel(\"Wind Speed (mph)\")\n",
    "plt.grid()\n",
    "\n",
    "# Save plot as png\n",
    "plt.savefig(\"lat vs wind plot.png\")"
   ]
  },
  {
   "cell_type": "markdown",
   "metadata": {},
   "source": [
    "## Linear Regression"
   ]
  },
  {
   "cell_type": "code",
   "execution_count": 14,
   "metadata": {},
   "outputs": [],
   "source": [
    "#set up hemisphere using latitudes\n",
    "northern_hemisphere = weather_city_df.loc[weather_city_df[\"Lat\"] >= 0]\n",
    "southern_hemisphere = weather_city_df.loc[weather_city_df[\"Lat\"] < 0]"
   ]
  },
  {
   "cell_type": "code",
   "execution_count": 15,
   "metadata": {},
   "outputs": [],
   "source": [
    "#define function for linear agression and scatterplott\n",
    "def linear_agression(x,y):\n",
    "    \n",
    "    (slope, intercept, rvalue, pvalue, stderr) = linregress(x, y)\n",
    "    regress_values = x * slope + intercept\n",
    "    line_eq = \"y = \" + str(round(slope,2)) + \"x + \" + str(round(intercept,2))\n",
    "    plt.scatter(x, y)\n",
    "    plt.plot(x,regress_values,\"r-\")\n",
    "    print(f\"The r-squared is: {rvalue}\")\n",
    "    return line_eq\n",
    "    \n",
    "\n",
    "# Define a fuction for annotating\n",
    "def annotate(line_eq, a, b):\n",
    "    plt.annotate(line_eq,(a,b),fontsize=12,color=\"red\")\n"
   ]
  },
  {
   "cell_type": "markdown",
   "metadata": {},
   "source": [
    "####  Northern Hemisphere - Max Temp vs. Latitude Linear Regression"
   ]
  },
  {
   "cell_type": "code",
   "execution_count": 16,
   "metadata": {},
   "outputs": [
    {
     "name": "stdout",
     "output_type": "stream",
     "text": [
      "The r-squared is: -0.857018758956691\n"
     ]
    },
    {
     "data": {
      "image/png": "[encoded data removed]",
      "text/plain": [
       "<Figure size 432x288 with 1 Axes>"
      ]
     },
     "metadata": {
      "needs_background": "light"
     },
     "output_type": "display_data"
    }
   ],
   "source": [
    "#call on function above\n",
    "#plot linear regression \n",
    "equation = linear_agression(northern_hemisphere[\"Lat\"], northern_hemisphere[\"Max Temp\"])\n",
    "annotate(equation, 0, 0)\n",
    "plt.xlabel(\"Latitude\")\n",
    "plt.ylabel(\"Max Temp (F)\")\n",
    "\n",
    "#save png file\n",
    "plt.savefig(\"Northern Hemisphere - Max Temp vs Lat Linear Regress.png\")"
   ]
  },
  {
   "cell_type": "markdown",
   "metadata": {},
   "source": [
    "####  Southern Hemisphere - Max Temp vs. Latitude Linear Regression"
   ]
  },
  {
   "cell_type": "code",
   "execution_count": 17,
   "metadata": {},
   "outputs": [
    {
     "name": "stdout",
     "output_type": "stream",
     "text": [
      "The r-squared is: 0.7446855188163738\n"
     ]
    },
    {
     "data": {
      "image/png": "[encoded data removed]",
      "text/plain": [
       "<Figure size 432x288 with 1 Axes>"
      ]
     },
     "metadata": {
      "needs_background": "light"
     },
     "output_type": "display_data"
    }
   ],
   "source": [
    "#call on function above\n",
    "#plot linear regression \n",
    "equation = linear_agression(southern_hemisphere[\"Lat\"], southern_hemisphere[\"Max Temp\"])\n",
    "annotate(equation, -50, 80)\n",
    "plt.xlabel(\"Latitude\")\n",
    "plt.ylabel(\"Max Temp (F)\")\n",
    "\n",
    "#save png file\n",
    "plt.savefig(\"Southern Hemisphere - Max Temp vs Lat Linear Regress.png\")"
   ]
  },
  {
   "cell_type": "markdown",
   "metadata": {},
   "source": [
    "####  Northern Hemisphere - Humidity (%) vs. Latitude Linear Regression"
   ]
  },
  {
   "cell_type": "code",
   "execution_count": 19,
   "metadata": {},
   "outputs": [
    {
     "name": "stdout",
     "output_type": "stream",
     "text": [
      "The r-squared is: 0.2232311153154847\n"
     ]
    },
    {
     "data": {
      "image/png": "[encoded data removed]",
      "text/plain": [
       "<Figure size 432x288 with 1 Axes>"
      ]
     },
     "metadata": {
      "needs_background": "light"
     },
     "output_type": "display_data"
    }
   ],
   "source": [
    "#call on function above\n",
    "#plot linear regression \n",
    "equation = linear_agression(northern_hemisphere[\"Lat\"], northern_hemisphere[\"Humidity\"])\n",
    "annotate(equation, 50, 0)\n",
    "plt.xlabel(\"Latitude\")\n",
    "plt.ylabel(\"Humidity (%)\")\n",
    "\n",
    "#save png file\n",
    "plt.savefig(\"Northern Hemisphere - Humidity vs Lat Linear Regress.png\")"
   ]
  },
  {
   "cell_type": "markdown",
   "metadata": {},
   "source": [
    "####  Southern Hemisphere - Humidity (%) vs. Latitude Linear Regression"
   ]
  },
  {
   "cell_type": "code",
   "execution_count": 20,
   "metadata": {},
   "outputs": [
    {
     "name": "stdout",
     "output_type": "stream",
     "text": [
      "The r-squared is: 0.2551654246516531\n"
     ]
    },
    {
     "data": {
      "image/png": "[encoded data removed]",
      "text/plain": [
       "<Figure size 432x288 with 1 Axes>"
      ]
     },
     "metadata": {
      "needs_background": "light"
     },
     "output_type": "display_data"
    }
   ],
   "source": [
    "#call on function above\n",
    "#plot linear regression \n",
    "equation = linear_agression(southern_hemisphere[\"Lat\"], southern_hemisphere[\"Humidity\"])\n",
    "annotate(equation, -50, 20)\n",
    "plt.xlabel(\"Latitude\")\n",
    "plt.ylabel(\"Humidity (%)\")\n",
    "\n",
    "#save png file\n",
    "plt.savefig(\"Southern Hemisphere - Humidity vs Lat Linear Regress.png\")"
   ]
  },
  {
   "cell_type": "markdown",
   "metadata": {},
   "source": [
    "####  Northern Hemisphere - Cloudiness (%) vs. Latitude Linear Regression"
   ]
  },
  {
   "cell_type": "code",
   "execution_count": 21,
   "metadata": {},
   "outputs": [
    {
     "name": "stdout",
     "output_type": "stream",
     "text": [
      "The r-squared is: 0.22065373124274384\n"
     ]
    },
    {
     "data": {
      "image/png": "[encoded data removed]",
      "text/plain": [
       "<Figure size 432x288 with 1 Axes>"
      ]
     },
     "metadata": {
      "needs_background": "light"
     },
     "output_type": "display_data"
    }
   ],
   "source": [
    "#call on function above\n",
    "#plot linear regression \n",
    "equation = linear_agression(northern_hemisphere[\"Lat\"], northern_hemisphere[\"Cloudiness\"])\n",
    "annotate(equation, 10, 60)\n",
    "plt.xlabel(\"Latitude\")\n",
    "plt.ylabel(\"Cloudiness (%)\")\n",
    "\n",
    "#save png file\n",
    "plt.savefig(\"Northern Hemisphere - Cloudiness vs Lat Linear Regress.png\")"
   ]
  },
  {
   "cell_type": "markdown",
   "metadata": {},
   "source": [
    "####  Southern Hemisphere - Cloudiness (%) vs. Latitude Linear Regression"
   ]
  },
  {
   "cell_type": "code",
   "execution_count": 22,
   "metadata": {},
   "outputs": [
    {
     "name": "stdout",
     "output_type": "stream",
     "text": [
      "The r-squared is: 0.09374000331166761\n"
     ]
    },
    {
     "data": {
      "image/png": "[encoded data removed]",
      "text/plain": [
       "<Figure size 432x288 with 1 Axes>"
      ]
     },
     "metadata": {
      "needs_background": "light"
     },
     "output_type": "display_data"
    }
   ],
   "source": [
    "#call on function above\n",
    "#plot linear regression \n",
    "equation = linear_agression(southern_hemisphere[\"Lat\"], southern_hemisphere[\"Cloudiness\"])\n",
    "annotate(equation, -50, 20)\n",
    "plt.xlabel(\"Latitude\")\n",
    "plt.ylabel(\"Cloudiness (%)\")\n",
    "\n",
    "#save png file\n",
    "plt.savefig(\"Southern Hemisphere - Cloudiness vs Lat Linear Regress.png\")"
   ]
  },
  {
   "cell_type": "markdown",
   "metadata": {},
   "source": [
    "####  Northern Hemisphere - Wind Speed (mph) vs. Latitude Linear Regression"
   ]
  },
  {
   "cell_type": "code",
   "execution_count": 23,
   "metadata": {},
   "outputs": [
    {
     "name": "stdout",
     "output_type": "stream",
     "text": [
      "The r-squared is: -0.014261039397903975\n"
     ]
    },
    {
     "data": {
      "image/png": "[encoded data removed]",
      "text/plain": [
       "<Figure size 432x288 with 1 Axes>"
      ]
     },
     "metadata": {
      "needs_background": "light"
     },
     "output_type": "display_data"
    }
   ],
   "source": [
    "#call on function above\n",
    "#plot linear regression \n",
    "equation = linear_agression(northern_hemisphere[\"Lat\"], northern_hemisphere[\"Wind Speed\"])\n",
    "annotate(equation, 10, 25)\n",
    "plt.xlabel(\"Latitude\")\n",
    "plt.ylabel(\"Wind Speed (mph)\")\n",
    "\n",
    "#save png file\n",
    "plt.savefig(\"Northern Hemisphere - Wind Speed vs Lat Linear Regress.png\")"
   ]
  },
  {
   "cell_type": "markdown",
   "metadata": {},
   "source": [
    "####  Southern Hemisphere - Wind Speed (mph) vs. Latitude Linear Regression"
   ]
  },
  {
   "cell_type": "code",
   "execution_count": 25,
   "metadata": {},
   "outputs": [
    {
     "name": "stdout",
     "output_type": "stream",
     "text": [
      "The r-squared is: -0.3664310245691488\n"
     ]
    },
    {
     "data": {
      "image/png": "[encoded data removed]",
      "text/plain": [
       "<Figure size 432x288 with 1 Axes>"
      ]
     },
     "metadata": {
      "needs_background": "light"
     },
     "output_type": "display_data"
    }
   ],
   "source": [
    "#call on function above\n",
    "#plot linear regression \n",
    "equation = linear_agression(southern_hemisphere[\"Lat\"], southern_hemisphere[\"Wind Speed\"])\n",
    "annotate(equation, -50, 25)\n",
    "plt.xlabel(\"Latitude\")\n",
    "plt.ylabel(\"Wind Speed (mph)\")\n",
    "\n",
    "#save png file\n",
    "plt.savefig(\"Southern Hemisphere - Wind Speed vs Lat Linear Regress.png\")"
   ]
  },
  {
   "cell_type": "code",
   "execution_count": null,
   "metadata": {},
   "outputs": [],
   "source": []
  }
 ],
 "metadata": {
  "anaconda-cloud": {},
  "kernel_info": {
   "name": "python3"
  },
  "kernelspec": {
   "display_name": "Python [conda env:.conda-PythonData38]",
   "language": "python",
   "name": "conda-env-.conda-PythonData38-py"
  },
  "language_info": {
   "codemirror_mode": {
    "name": "ipython",
    "version": 3
   },
   "file_extension": ".py",
   "mimetype": "text/x-python",
   "name": "python",
   "nbconvert_exporter": "python",
   "pygments_lexer": "ipython3",
   "version": "3.8.12"
  },
  "latex_envs": {
   "LaTeX_envs_menu_present": true,
   "autoclose": false,
   "autocomplete": true,
   "bibliofile": "biblio.bib",
   "cite_by": "apalike",
   "current_citInitial": 1,
   "eqLabelWithNumbers": true,
   "eqNumInitial": 1,
   "hotkeys": {
    "equation": "Ctrl-E",
    "itemize": "Ctrl-I"
   },
   "labels_anchors": false,
   "latex_user_defs": false,
   "report_style_numbering": false,
   "user_envs_cfg": false
  },
  "nteract": {
   "version": "0.12.3"
  }
 },
 "nbformat": 4,
 "nbformat_minor": 2
}
